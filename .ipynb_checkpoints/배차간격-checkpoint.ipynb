{
 "cells": [
  {
   "cell_type": "code",
   "execution_count": 1,
   "id": "c7994726",
   "metadata": {},
   "outputs": [
    {
     "name": "stdout",
     "output_type": "stream",
     "text": [
      "\u001b[33mDEPRECATION: Configuring installation scheme with distutils config files is deprecated and will no longer work in the near future. If you are using a Homebrew or Linuxbrew Python, please see discussion at https://github.com/Homebrew/homebrew-core/issues/76621\u001b[0m\n",
      "Requirement already satisfied: pip in /usr/local/lib/python3.9/site-packages (21.3)\n",
      "\u001b[33mDEPRECATION: Configuring installation scheme with distutils config files is deprecated and will no longer work in the near future. If you are using a Homebrew or Linuxbrew Python, please see discussion at https://github.com/Homebrew/homebrew-core/issues/76621\u001b[0m\n",
      "Requirement already satisfied: pandas in /usr/local/lib/python3.9/site-packages (1.3.2)\n",
      "Requirement already satisfied: tqdm in /usr/local/lib/python3.9/site-packages (4.62.3)\n",
      "Requirement already satisfied: multiprocess in /usr/local/lib/python3.9/site-packages (0.70.12.2)\n",
      "Requirement already satisfied: numpy>=1.17.3 in /usr/local/lib/python3.9/site-packages (from pandas) (1.21.2)\n",
      "Requirement already satisfied: python-dateutil>=2.7.3 in /usr/local/lib/python3.9/site-packages (from pandas) (2.8.2)\n",
      "Requirement already satisfied: pytz>=2017.3 in /usr/local/lib/python3.9/site-packages (from pandas) (2021.1)\n",
      "Requirement already satisfied: dill>=0.3.4 in /usr/local/lib/python3.9/site-packages (from multiprocess) (0.3.4)\n",
      "Requirement already satisfied: six>=1.5 in /usr/local/lib/python3.9/site-packages (from python-dateutil>=2.7.3->pandas) (1.16.0)\n"
     ]
    }
   ],
   "source": [
    "# Install dependencies\n",
    "!pip3.9 install --upgrade pip\n",
    "!pip3.9 install pandas tqdm multiprocess"
   ]
  },
  {
   "cell_type": "code",
   "execution_count": 2,
   "id": "29b1e011",
   "metadata": {},
   "outputs": [],
   "source": [
    "# from tqdm.notebook import tqdm, trange\n",
    "from tqdm import tqdm\n",
    "import pandas as pd\n",
    "import glob"
   ]
  },
  {
   "cell_type": "code",
   "execution_count": 3,
   "id": "7a964a26",
   "metadata": {},
   "outputs": [],
   "source": [
    "datadir = \"./data/*/\"\n",
    "all_datas = sorted(glob.glob(datadir + \"*.csv\"))"
   ]
  },
  {
   "cell_type": "code",
   "execution_count": 4,
   "id": "af63bdbd",
   "metadata": {},
   "outputs": [
    {
     "name": "stdout",
     "output_type": "stream",
     "text": [
      "Data CSV Count: 39364\n"
     ]
    }
   ],
   "source": [
    "# CSV Count\n",
    "print(\"Data CSV Count:\", len(all_datas))"
   ]
  },
  {
   "cell_type": "code",
   "execution_count": 5,
   "id": "c66387ab",
   "metadata": {},
   "outputs": [
    {
     "name": "stdout",
     "output_type": "stream",
     "text": [
      "Read files...\n"
     ]
    },
    {
     "name": "stderr",
     "output_type": "stream",
     "text": [
      "100%|████████████████████████████████████| 39364/39364 [00:35<00:00, 1120.67it/s]"
     ]
    },
    {
     "name": "stdout",
     "output_type": "stream",
     "text": [
      "Finished Reading files...\n"
     ]
    },
    {
     "name": "stderr",
     "output_type": "stream",
     "text": [
      "\n"
     ]
    }
   ],
   "source": [
    "from multiprocess import Process, Pool\n",
    "\n",
    "print(\"Read files...\")\n",
    "\n",
    "def read(filename):\n",
    "    name = filename\n",
    "    \n",
    "    data = pd.read_csv(filename)\n",
    "    data[\"filename\"] = name\n",
    "    # print(\"Read\", filename.split(\"/\")[-1])\n",
    "    return (name, data)\n",
    "\n",
    "pool = Pool()\n",
    "result = list(tqdm(pool.imap(read, all_datas), total=len(all_datas)))\n",
    "\n",
    "pool.close()\n",
    "pool.join() # wait till pool to finish calculation\n",
    "\n",
    "print(\"Finished Reading files...\")\n",
    "\n",
    "all_df = dict(result)"
   ]
  },
  {
   "cell_type": "code",
   "execution_count": 6,
   "id": "44d2fbb9",
   "metadata": {},
   "outputs": [
    {
     "data": {
      "text/html": [
       "<div>\n",
       "<style scoped>\n",
       "    .dataframe tbody tr th:only-of-type {\n",
       "        vertical-align: middle;\n",
       "    }\n",
       "\n",
       "    .dataframe tbody tr th {\n",
       "        vertical-align: top;\n",
       "    }\n",
       "\n",
       "    .dataframe thead th {\n",
       "        text-align: right;\n",
       "    }\n",
       "</style>\n",
       "<table border=\"1\" class=\"dataframe\">\n",
       "  <thead>\n",
       "    <tr style=\"text-align: right;\">\n",
       "      <th></th>\n",
       "      <th>vehicleno</th>\n",
       "      <th>filename</th>\n",
       "    </tr>\n",
       "    <tr>\n",
       "      <th>time</th>\n",
       "      <th></th>\n",
       "      <th></th>\n",
       "    </tr>\n",
       "  </thead>\n",
       "  <tbody>\n",
       "    <tr>\n",
       "      <th>2021-08-25 09:22:02</th>\n",
       "      <td>1383</td>\n",
       "      <td>./data/210825/092202.csv</td>\n",
       "    </tr>\n",
       "    <tr>\n",
       "      <th>2021-08-25 09:23:03</th>\n",
       "      <td>1383</td>\n",
       "      <td>./data/210825/092303.csv</td>\n",
       "    </tr>\n",
       "    <tr>\n",
       "      <th>2021-08-25 09:24:03</th>\n",
       "      <td>1383</td>\n",
       "      <td>./data/210825/092403.csv</td>\n",
       "    </tr>\n",
       "    <tr>\n",
       "      <th>2021-08-25 09:39:02</th>\n",
       "      <td>1323</td>\n",
       "      <td>./data/210825/093902.csv</td>\n",
       "    </tr>\n",
       "    <tr>\n",
       "      <th>2021-08-25 09:40:03</th>\n",
       "      <td>1323</td>\n",
       "      <td>./data/210825/094003.csv</td>\n",
       "    </tr>\n",
       "  </tbody>\n",
       "</table>\n",
       "</div>"
      ],
      "text/plain": [
       "                    vehicleno                  filename\n",
       "time                                                   \n",
       "2021-08-25 09:22:02      1383  ./data/210825/092202.csv\n",
       "2021-08-25 09:23:03      1383  ./data/210825/092303.csv\n",
       "2021-08-25 09:24:03      1383  ./data/210825/092403.csv\n",
       "2021-08-25 09:39:02      1323  ./data/210825/093902.csv\n",
       "2021-08-25 09:40:03      1323  ./data/210825/094003.csv"
      ]
     },
     "execution_count": 6,
     "metadata": {},
     "output_type": "execute_result"
    }
   ],
   "source": [
    "# 버스 정류장\n",
    "busstation = \"PHB351016075\" # 조회할 버스 정류장 - PHB351016075 농협양덕지점 (한동대방향)\n",
    "\n",
    "all_datas = pd.concat(all_df.values(), ignore_index=True) # 모든 데이터를 합친다\n",
    "all_datas = all_datas[all_datas.nodeid == busstation] # 정류장 검색\n",
    "\n",
    "all_datas.reset_index(inplace=True) # Reset index\n",
    "all_datas = all_datas[[\"vehicleno\", \"filename\"]] # vehicle 번호와 filename 만 보여주기\n",
    "all_datas[\"time\"] = pd.to_datetime(all_datas[\"filename\"], format=\"%y%m%d/%H%M%S\", errors=\"coerce\", exact=False) # filename 에서 시간 계산\n",
    "all_datas.set_index(\"time\", inplace=True)\n",
    "\n",
    "all_datas.head()"
   ]
  },
  {
   "cell_type": "code",
   "execution_count": 7,
   "id": "5c361759",
   "metadata": {},
   "outputs": [
    {
     "data": {
      "text/html": [
       "<div>\n",
       "<style scoped>\n",
       "    .dataframe tbody tr th:only-of-type {\n",
       "        vertical-align: middle;\n",
       "    }\n",
       "\n",
       "    .dataframe tbody tr th {\n",
       "        vertical-align: top;\n",
       "    }\n",
       "\n",
       "    .dataframe thead th {\n",
       "        text-align: right;\n",
       "    }\n",
       "</style>\n",
       "<table border=\"1\" class=\"dataframe\">\n",
       "  <thead>\n",
       "    <tr style=\"text-align: right;\">\n",
       "      <th></th>\n",
       "      <th>vehicleno</th>\n",
       "      <th>filename</th>\n",
       "    </tr>\n",
       "    <tr>\n",
       "      <th>time</th>\n",
       "      <th></th>\n",
       "      <th></th>\n",
       "    </tr>\n",
       "  </thead>\n",
       "  <tbody>\n",
       "    <tr>\n",
       "      <th>2021-08-25 09:22:02</th>\n",
       "      <td>1383</td>\n",
       "      <td>./data/210825/092202.csv</td>\n",
       "    </tr>\n",
       "    <tr>\n",
       "      <th>2021-08-25 09:39:02</th>\n",
       "      <td>1323</td>\n",
       "      <td>./data/210825/093902.csv</td>\n",
       "    </tr>\n",
       "    <tr>\n",
       "      <th>2021-08-25 10:01:03</th>\n",
       "      <td>1349</td>\n",
       "      <td>./data/210825/100103.csv</td>\n",
       "    </tr>\n",
       "    <tr>\n",
       "      <th>2021-08-25 10:18:03</th>\n",
       "      <td>1348</td>\n",
       "      <td>./data/210825/101803.csv</td>\n",
       "    </tr>\n",
       "    <tr>\n",
       "      <th>2021-08-25 10:39:02</th>\n",
       "      <td>1428</td>\n",
       "      <td>./data/210825/103902.csv</td>\n",
       "    </tr>\n",
       "  </tbody>\n",
       "</table>\n",
       "</div>"
      ],
      "text/plain": [
       "                    vehicleno                  filename\n",
       "time                                                   \n",
       "2021-08-25 09:22:02      1383  ./data/210825/092202.csv\n",
       "2021-08-25 09:39:02      1323  ./data/210825/093902.csv\n",
       "2021-08-25 10:01:03      1349  ./data/210825/100103.csv\n",
       "2021-08-25 10:18:03      1348  ./data/210825/101803.csv\n",
       "2021-08-25 10:39:02      1428  ./data/210825/103902.csv"
      ]
     },
     "execution_count": 7,
     "metadata": {},
     "output_type": "execute_result"
    }
   ],
   "source": [
    "# 다음 entry 가 같은 vehicleno 일경우 무시\n",
    "all_datas = all_datas[ \n",
    "    all_datas.vehicleno.ne(all_datas.vehicleno.shift())\n",
    "]\n",
    "all_datas.head()"
   ]
  },
  {
   "cell_type": "code",
   "execution_count": 8,
   "id": "8f544bbf",
   "metadata": {},
   "outputs": [
    {
     "data": {
      "text/html": [
       "<div>\n",
       "<style scoped>\n",
       "    .dataframe tbody tr th:only-of-type {\n",
       "        vertical-align: middle;\n",
       "    }\n",
       "\n",
       "    .dataframe tbody tr th {\n",
       "        vertical-align: top;\n",
       "    }\n",
       "\n",
       "    .dataframe thead th {\n",
       "        text-align: right;\n",
       "    }\n",
       "</style>\n",
       "<table border=\"1\" class=\"dataframe\">\n",
       "  <thead>\n",
       "    <tr style=\"text-align: right;\">\n",
       "      <th></th>\n",
       "      <th>vehicleno</th>\n",
       "      <th>filename</th>\n",
       "      <th>diff</th>\n",
       "    </tr>\n",
       "    <tr>\n",
       "      <th>time</th>\n",
       "      <th></th>\n",
       "      <th></th>\n",
       "      <th></th>\n",
       "    </tr>\n",
       "  </thead>\n",
       "  <tbody>\n",
       "    <tr>\n",
       "      <th>2021-08-25 09:22:02</th>\n",
       "      <td>1383</td>\n",
       "      <td>./data/210825/092202.csv</td>\n",
       "      <td>NaT</td>\n",
       "    </tr>\n",
       "    <tr>\n",
       "      <th>2021-08-25 09:39:02</th>\n",
       "      <td>1323</td>\n",
       "      <td>./data/210825/093902.csv</td>\n",
       "      <td>0 days 00:17:00</td>\n",
       "    </tr>\n",
       "    <tr>\n",
       "      <th>2021-08-25 10:01:03</th>\n",
       "      <td>1349</td>\n",
       "      <td>./data/210825/100103.csv</td>\n",
       "      <td>0 days 00:22:01</td>\n",
       "    </tr>\n",
       "    <tr>\n",
       "      <th>2021-08-25 10:18:03</th>\n",
       "      <td>1348</td>\n",
       "      <td>./data/210825/101803.csv</td>\n",
       "      <td>0 days 00:17:00</td>\n",
       "    </tr>\n",
       "    <tr>\n",
       "      <th>2021-08-25 10:39:02</th>\n",
       "      <td>1428</td>\n",
       "      <td>./data/210825/103902.csv</td>\n",
       "      <td>0 days 00:20:59</td>\n",
       "    </tr>\n",
       "  </tbody>\n",
       "</table>\n",
       "</div>"
      ],
      "text/plain": [
       "                    vehicleno                  filename            diff\n",
       "time                                                                   \n",
       "2021-08-25 09:22:02      1383  ./data/210825/092202.csv             NaT\n",
       "2021-08-25 09:39:02      1323  ./data/210825/093902.csv 0 days 00:17:00\n",
       "2021-08-25 10:01:03      1349  ./data/210825/100103.csv 0 days 00:22:01\n",
       "2021-08-25 10:18:03      1348  ./data/210825/101803.csv 0 days 00:17:00\n",
       "2021-08-25 10:39:02      1428  ./data/210825/103902.csv 0 days 00:20:59"
      ]
     },
     "execution_count": 8,
     "metadata": {},
     "output_type": "execute_result"
    }
   ],
   "source": [
    "# 시간 계산\n",
    "all_datas[\"diff\"] = all_datas.index.to_series().diff()\n",
    "all_datas.head()"
   ]
  },
  {
   "cell_type": "code",
   "execution_count": 9,
   "id": "8ef6277d",
   "metadata": {},
   "outputs": [
    {
     "data": {
      "text/plain": [
       "count    2060.000000\n",
       "mean       18.449474\n",
       "std         7.606281\n",
       "min         0.000000\n",
       "25%        14.000000\n",
       "50%        18.000000\n",
       "75%        22.016667\n",
       "max       100.000000\n",
       "Name: diff, dtype: float64"
      ]
     },
     "execution_count": 9,
     "metadata": {},
     "output_type": "execute_result"
    }
   ],
   "source": [
    "# all_datas[\"diff\"]\n",
    "diff_data = all_datas.dropna(subset=[\"diff\"])[\"diff\"].dt.seconds.div(60, fill_value=0)\n",
    "diff_data[diff_data < 120].describe() # 최대시간을 2시간으로 두어 익일인 경우 무시."
   ]
  }
 ],
 "metadata": {
  "kernelspec": {
   "display_name": "Python 3 (ipykernel)",
   "language": "python",
   "name": "python3"
  },
  "language_info": {
   "codemirror_mode": {
    "name": "ipython",
    "version": 3
   },
   "file_extension": ".py",
   "mimetype": "text/x-python",
   "name": "python",
   "nbconvert_exporter": "python",
   "pygments_lexer": "ipython3",
   "version": "3.9.6"
  }
 },
 "nbformat": 4,
 "nbformat_minor": 5
}
