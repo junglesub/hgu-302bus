{
 "cells": [
  {
   "cell_type": "code",
   "execution_count": 1,
   "id": "c7994726",
   "metadata": {},
   "outputs": [
    {
     "name": "stdout",
     "output_type": "stream",
     "text": [
      "\u001b[33mDEPRECATION: Configuring installation scheme with distutils config files is deprecated and will no longer work in the near future. If you are using a Homebrew or Linuxbrew Python, please see discussion at https://github.com/Homebrew/homebrew-core/issues/76621\u001b[0m\n",
      "Requirement already satisfied: pip in /usr/local/lib/python3.9/site-packages (21.3)\n",
      "\u001b[33mDEPRECATION: Configuring installation scheme with distutils config files is deprecated and will no longer work in the near future. If you are using a Homebrew or Linuxbrew Python, please see discussion at https://github.com/Homebrew/homebrew-core/issues/76621\u001b[0m\n",
      "Requirement already satisfied: pandas in /usr/local/lib/python3.9/site-packages (1.3.2)\n",
      "Requirement already satisfied: tqdm in /usr/local/lib/python3.9/site-packages (4.62.3)\n",
      "Requirement already satisfied: multiprocess in /usr/local/lib/python3.9/site-packages (0.70.12.2)\n",
      "Requirement already satisfied: python-dateutil>=2.7.3 in /usr/local/lib/python3.9/site-packages (from pandas) (2.8.2)\n",
      "Requirement already satisfied: pytz>=2017.3 in /usr/local/lib/python3.9/site-packages (from pandas) (2021.1)\n",
      "Requirement already satisfied: numpy>=1.17.3 in /usr/local/lib/python3.9/site-packages (from pandas) (1.21.2)\n",
      "Requirement already satisfied: dill>=0.3.4 in /usr/local/lib/python3.9/site-packages (from multiprocess) (0.3.4)\n",
      "Requirement already satisfied: six>=1.5 in /usr/local/lib/python3.9/site-packages (from python-dateutil>=2.7.3->pandas) (1.16.0)\n"
     ]
    }
   ],
   "source": [
    "# Install dependencies\n",
    "!pip3.9 install --upgrade pip\n",
    "!pip3.9 install pandas tqdm multiprocess"
   ]
  },
  {
   "cell_type": "code",
   "execution_count": 2,
   "id": "29b1e011",
   "metadata": {},
   "outputs": [],
   "source": [
    "# from tqdm.notebook import tqdm, trange\n",
    "from tqdm import tqdm\n",
    "import pandas as pd\n",
    "import numpy as np\n",
    "import glob"
   ]
  },
  {
   "cell_type": "code",
   "execution_count": 3,
   "id": "7a964a26",
   "metadata": {},
   "outputs": [],
   "source": [
    "datadir = \"./data/*/\"\n",
    "all_datas = sorted(glob.glob(datadir + \"*.csv\"))"
   ]
  },
  {
   "cell_type": "code",
   "execution_count": 4,
   "id": "af63bdbd",
   "metadata": {},
   "outputs": [
    {
     "name": "stdout",
     "output_type": "stream",
     "text": [
      "Data CSV Count: 39364\n"
     ]
    }
   ],
   "source": [
    "# CSV Count\n",
    "print(\"Data CSV Count:\", len(all_datas))"
   ]
  },
  {
   "cell_type": "code",
   "execution_count": 5,
   "id": "c66387ab",
   "metadata": {},
   "outputs": [
    {
     "name": "stdout",
     "output_type": "stream",
     "text": [
      "Read files...\n"
     ]
    },
    {
     "name": "stderr",
     "output_type": "stream",
     "text": [
      "100%|███████████████████████████████████| 39364/39364 [00:35<00:00, 1115.74it/s]"
     ]
    },
    {
     "name": "stdout",
     "output_type": "stream",
     "text": [
      "Finished Reading files...\n"
     ]
    },
    {
     "name": "stderr",
     "output_type": "stream",
     "text": [
      "\n"
     ]
    }
   ],
   "source": [
    "from multiprocess import Process, Pool\n",
    "\n",
    "print(\"Read files...\")\n",
    "\n",
    "def read(filename):\n",
    "    name = filename\n",
    "    \n",
    "    data = pd.read_csv(filename)\n",
    "    data[\"filename\"] = name\n",
    "    # print(\"Read\", filename.split(\"/\")[-1])\n",
    "    return (name, data)\n",
    "\n",
    "pool = Pool()\n",
    "result = list(tqdm(pool.imap(read, all_datas), total=len(all_datas)))\n",
    "\n",
    "pool.close()\n",
    "pool.join() # wait till pool to finish calculation\n",
    "\n",
    "print(\"Finished Reading files...\")\n",
    "\n",
    "all_df = dict(result)"
   ]
  },
  {
   "cell_type": "code",
   "execution_count": 6,
   "id": "44d2fbb9",
   "metadata": {},
   "outputs": [
    {
     "data": {
      "text/html": [
       "<div>\n",
       "<style scoped>\n",
       "    .dataframe tbody tr th:only-of-type {\n",
       "        vertical-align: middle;\n",
       "    }\n",
       "\n",
       "    .dataframe tbody tr th {\n",
       "        vertical-align: top;\n",
       "    }\n",
       "\n",
       "    .dataframe thead th {\n",
       "        text-align: right;\n",
       "    }\n",
       "</style>\n",
       "<table border=\"1\" class=\"dataframe\">\n",
       "  <thead>\n",
       "    <tr style=\"text-align: right;\">\n",
       "      <th></th>\n",
       "      <th>vehicleno</th>\n",
       "      <th>nodenm</th>\n",
       "      <th>filename</th>\n",
       "    </tr>\n",
       "    <tr>\n",
       "      <th>time</th>\n",
       "      <th></th>\n",
       "      <th></th>\n",
       "      <th></th>\n",
       "    </tr>\n",
       "  </thead>\n",
       "  <tbody>\n",
       "    <tr>\n",
       "      <th>2021-08-25 09:09:02</th>\n",
       "      <td>1431</td>\n",
       "      <td>남광하우스토리</td>\n",
       "      <td>./data/210825/090902.csv</td>\n",
       "    </tr>\n",
       "    <tr>\n",
       "      <th>2021-08-25 09:10:03</th>\n",
       "      <td>1431</td>\n",
       "      <td>남광하우스토리</td>\n",
       "      <td>./data/210825/091003.csv</td>\n",
       "    </tr>\n",
       "    <tr>\n",
       "      <th>2021-08-25 09:22:02</th>\n",
       "      <td>1383</td>\n",
       "      <td>농협 양덕지점</td>\n",
       "      <td>./data/210825/092202.csv</td>\n",
       "    </tr>\n",
       "    <tr>\n",
       "      <th>2021-08-25 09:23:03</th>\n",
       "      <td>1383</td>\n",
       "      <td>농협 양덕지점</td>\n",
       "      <td>./data/210825/092303.csv</td>\n",
       "    </tr>\n",
       "    <tr>\n",
       "      <th>2021-08-25 09:24:03</th>\n",
       "      <td>1383</td>\n",
       "      <td>농협 양덕지점</td>\n",
       "      <td>./data/210825/092403.csv</td>\n",
       "    </tr>\n",
       "  </tbody>\n",
       "</table>\n",
       "</div>"
      ],
      "text/plain": [
       "                    vehicleno   nodenm                  filename\n",
       "time                                                            \n",
       "2021-08-25 09:09:02      1431  남광하우스토리  ./data/210825/090902.csv\n",
       "2021-08-25 09:10:03      1431  남광하우스토리  ./data/210825/091003.csv\n",
       "2021-08-25 09:22:02      1383  농협 양덕지점  ./data/210825/092202.csv\n",
       "2021-08-25 09:23:03      1383  농협 양덕지점  ./data/210825/092303.csv\n",
       "2021-08-25 09:24:03      1383  농협 양덕지점  ./data/210825/092403.csv"
      ]
     },
     "execution_count": 6,
     "metadata": {},
     "output_type": "execute_result"
    }
   ],
   "source": [
    "# 버스 정류장\n",
    "busstation1 = \"PHB351016075\" # 조회할 버스 정류장 - PHB351016075 농협양덕지점 (한동대방향)\n",
    "busstation2 = \"PHB351016076\" # 조회할 버스 정류장2 (지나갔을까봐) - PHB351016075 농협양덕지점 (한동대방향)\n",
    "\n",
    "all_datas = pd.concat(all_df.values(), ignore_index=True) # 모든 데이터를 합친다\n",
    "all_datas = all_datas[(all_datas.nodeid == busstation1) | (all_datas.nodeid == busstation2)] # 정류장 검색\n",
    "\n",
    "all_datas.reset_index(inplace=True) # Reset index\n",
    "all_datas = all_datas[[\"vehicleno\", \"nodenm\", \"filename\"]] # vehicle 번호와 filename 만 보여주기\n",
    "all_datas[\"time\"] = pd.to_datetime(all_datas[\"filename\"], format=\"%y%m%d/%H%M%S\", errors=\"coerce\", exact=False) # filename 에서 시간 계산\n",
    "all_datas.set_index(\"time\", inplace=True)\n",
    "\n",
    "all_datas.head()"
   ]
  },
  {
   "cell_type": "code",
   "execution_count": 7,
   "id": "5c361759",
   "metadata": {},
   "outputs": [
    {
     "data": {
      "text/html": [
       "<div>\n",
       "<style scoped>\n",
       "    .dataframe tbody tr th:only-of-type {\n",
       "        vertical-align: middle;\n",
       "    }\n",
       "\n",
       "    .dataframe tbody tr th {\n",
       "        vertical-align: top;\n",
       "    }\n",
       "\n",
       "    .dataframe thead th {\n",
       "        text-align: right;\n",
       "    }\n",
       "</style>\n",
       "<table border=\"1\" class=\"dataframe\">\n",
       "  <thead>\n",
       "    <tr style=\"text-align: right;\">\n",
       "      <th></th>\n",
       "      <th>vehicleno</th>\n",
       "      <th>nodenm</th>\n",
       "      <th>filename</th>\n",
       "    </tr>\n",
       "    <tr>\n",
       "      <th>time</th>\n",
       "      <th></th>\n",
       "      <th></th>\n",
       "      <th></th>\n",
       "    </tr>\n",
       "  </thead>\n",
       "  <tbody>\n",
       "    <tr>\n",
       "      <th>2021-08-25 09:09:02</th>\n",
       "      <td>1431</td>\n",
       "      <td>남광하우스토리</td>\n",
       "      <td>./data/210825/090902.csv</td>\n",
       "    </tr>\n",
       "    <tr>\n",
       "      <th>2021-08-25 09:22:02</th>\n",
       "      <td>1383</td>\n",
       "      <td>농협 양덕지점</td>\n",
       "      <td>./data/210825/092202.csv</td>\n",
       "    </tr>\n",
       "    <tr>\n",
       "      <th>2021-08-25 09:39:02</th>\n",
       "      <td>1323</td>\n",
       "      <td>농협 양덕지점</td>\n",
       "      <td>./data/210825/093902.csv</td>\n",
       "    </tr>\n",
       "    <tr>\n",
       "      <th>2021-08-25 10:01:03</th>\n",
       "      <td>1349</td>\n",
       "      <td>농협 양덕지점</td>\n",
       "      <td>./data/210825/100103.csv</td>\n",
       "    </tr>\n",
       "    <tr>\n",
       "      <th>2021-08-25 10:18:03</th>\n",
       "      <td>1348</td>\n",
       "      <td>농협 양덕지점</td>\n",
       "      <td>./data/210825/101803.csv</td>\n",
       "    </tr>\n",
       "  </tbody>\n",
       "</table>\n",
       "</div>"
      ],
      "text/plain": [
       "                    vehicleno   nodenm                  filename\n",
       "time                                                            \n",
       "2021-08-25 09:09:02      1431  남광하우스토리  ./data/210825/090902.csv\n",
       "2021-08-25 09:22:02      1383  농협 양덕지점  ./data/210825/092202.csv\n",
       "2021-08-25 09:39:02      1323  농협 양덕지점  ./data/210825/093902.csv\n",
       "2021-08-25 10:01:03      1349  농협 양덕지점  ./data/210825/100103.csv\n",
       "2021-08-25 10:18:03      1348  농협 양덕지점  ./data/210825/101803.csv"
      ]
     },
     "execution_count": 7,
     "metadata": {},
     "output_type": "execute_result"
    }
   ],
   "source": [
    "# 다음 entry 가 같은 vehicleno 일경우 무시\n",
    "all_datas = all_datas[ \n",
    "    all_datas.vehicleno.ne(all_datas.vehicleno.shift())\n",
    "]\n",
    "all_datas.head()"
   ]
  },
  {
   "cell_type": "code",
   "execution_count": 8,
   "id": "c1dbd017",
   "metadata": {},
   "outputs": [
    {
     "data": {
      "text/plain": [
       "331"
      ]
     },
     "execution_count": 8,
     "metadata": {},
     "output_type": "execute_result"
    }
   ],
   "source": [
    "# 빈파일 목록 확인\n",
    "empty_files = []\n",
    "for name, data in all_df.items():\n",
    "    if len(data) == 0:\n",
    "        empty_files.append(name)\n",
    "len(empty_files)"
   ]
  },
  {
   "cell_type": "code",
   "execution_count": 9,
   "id": "b7e6e08f",
   "metadata": {},
   "outputs": [],
   "source": [
    "# 빈파일들에는 null 데이터를 추가하여 다음 시간이 계산이 안되게 처리.\n",
    "for file in empty_files:\n",
    "    datetime = pd.to_datetime(file, format=\"%y%m%d/%H%M%S\", errors=\"coerce\", exact=False)\n",
    "    all_datas.loc[datetime] = [np.nan for i in range(len(all_datas.columns))]"
   ]
  },
  {
   "cell_type": "code",
   "execution_count": 10,
   "id": "4bba977d",
   "metadata": {},
   "outputs": [],
   "source": [
    "# 마지막으로 전에 빈 공간이 있을경우 데이터 무시.\n",
    "all_datas = all_datas.sort_index()\n",
    "all_datas[\"diff\"] = all_datas.index.to_series().diff()\n",
    "all_datas = all_datas[~all_datas.vehicleno.shift().isna()].dropna(subset=['filename'])"
   ]
  },
  {
   "cell_type": "code",
   "execution_count": 11,
   "id": "8f544bbf",
   "metadata": {},
   "outputs": [],
   "source": [
    "# 시간 계산\n",
    "# all_datas[\"diff\"] = all_datas.index.to_series().diff()"
   ]
  },
  {
   "cell_type": "code",
   "execution_count": 20,
   "id": "8ef6277d",
   "metadata": {},
   "outputs": [
    {
     "data": {
      "text/plain": [
       "count    2099.000000\n",
       "mean       18.068906\n",
       "std         6.497919\n",
       "min         2.966667\n",
       "25%        14.000000\n",
       "50%        18.000000\n",
       "75%        21.983333\n",
       "max        54.000000\n",
       "Name: diff, dtype: float64"
      ]
     },
     "execution_count": 20,
     "metadata": {},
     "output_type": "execute_result"
    }
   ],
   "source": [
    "# all_datas[\"diff\"]\n",
    "goodcond = (diff_data < 120) & (diff_data > 2)\n",
    "diff_data = all_datas.dropna(subset=[\"diff\"])[\"diff\"].dt.seconds.div(60, fill_value=0)\n",
    "diff_data[goodcond].describe() # 최대시간을 2시간으로 두어 익일인 경우 무시."
   ]
  },
  {
   "cell_type": "markdown",
   "id": "366170e8",
   "metadata": {},
   "source": [
    "------\n",
    "# Visuals"
   ]
  },
  {
   "cell_type": "code",
   "execution_count": 62,
   "id": "dff117a3",
   "metadata": {
    "collapsed": true
   },
   "outputs": [
    {
     "name": "stdout",
     "output_type": "stream",
     "text": [
      "\u001b[33mDEPRECATION: Configuring installation scheme with distutils config files is deprecated and will no longer work in the near future. If you are using a Homebrew or Linuxbrew Python, please see discussion at https://github.com/Homebrew/homebrew-core/issues/76621\u001b[0m\n",
      "Requirement already satisfied: matplotlib in /usr/local/lib/python3.9/site-packages (3.4.3)\n",
      "Collecting seaborn\n",
      "  Downloading seaborn-0.11.2-py3-none-any.whl (292 kB)\n",
      "     |████████████████████████████████| 292 kB 5.5 MB/s            \n",
      "\u001b[?25hRequirement already satisfied: pillow>=6.2.0 in /usr/local/lib/python3.9/site-packages (from matplotlib) (8.4.0)\n",
      "Requirement already satisfied: numpy>=1.16 in /usr/local/lib/python3.9/site-packages (from matplotlib) (1.21.2)\n",
      "Requirement already satisfied: kiwisolver>=1.0.1 in /usr/local/lib/python3.9/site-packages (from matplotlib) (1.3.2)\n",
      "Requirement already satisfied: pyparsing>=2.2.1 in /Users/jungsubr/Library/Python/3.9/lib/python/site-packages (from matplotlib) (2.4.7)\n",
      "Requirement already satisfied: python-dateutil>=2.7 in /usr/local/lib/python3.9/site-packages (from matplotlib) (2.8.2)\n",
      "Requirement already satisfied: cycler>=0.10 in /usr/local/lib/python3.9/site-packages (from matplotlib) (0.10.0)\n",
      "Requirement already satisfied: pandas>=0.23 in /usr/local/lib/python3.9/site-packages (from seaborn) (1.3.2)\n",
      "Collecting scipy>=1.0\n",
      "  Downloading scipy-1.7.1-cp39-cp39-macosx_10_9_x86_64.whl (32.8 MB)\n",
      "     |████████████████████████████████| 32.8 MB 3.8 MB/s             \n",
      "\u001b[?25hRequirement already satisfied: six in /usr/local/lib/python3.9/site-packages (from cycler>=0.10->matplotlib) (1.16.0)\n",
      "Requirement already satisfied: pytz>=2017.3 in /usr/local/lib/python3.9/site-packages (from pandas>=0.23->seaborn) (2021.1)\n",
      "Installing collected packages: scipy, seaborn\n",
      "\u001b[33m  DEPRECATION: Configuring installation scheme with distutils config files is deprecated and will no longer work in the near future. If you are using a Homebrew or Linuxbrew Python, please see discussion at https://github.com/Homebrew/homebrew-core/issues/76621\u001b[0m\n",
      "\u001b[33mDEPRECATION: Configuring installation scheme with distutils config files is deprecated and will no longer work in the near future. If you are using a Homebrew or Linuxbrew Python, please see discussion at https://github.com/Homebrew/homebrew-core/issues/76621\u001b[0m\n",
      "Successfully installed scipy-1.7.1 seaborn-0.11.2\n"
     ]
    }
   ],
   "source": [
    "!pip3.9 install matplotlib seaborn"
   ]
  },
  {
   "cell_type": "code",
   "execution_count": 72,
   "id": "383a2250",
   "metadata": {},
   "outputs": [],
   "source": [
    "# 한글 폰트 설치\n",
    "from matplotlib import font_manager, rc\n",
    "plt.rcParams['axes.unicode_minus'] = False\n",
    "\n",
    "import platform\n",
    "if platform.system() == \"Darwin\":\n",
    "  rc(\"font\", family=\"AppleGothic\")\n",
    "elif platform.system() == \"Windows\":\n",
    "  path=\"c:/Windows/Font/malgun.ttf\"\n",
    "  font_name = font_manager.FontPropertie(fname=path).get_name()\n",
    "  rc('font', family=font_name)\n",
    "else:\n",
    "  %config InlineBackend.figure_format = 'retina'\n",
    "  !apt -qq -y install fonts-nanum\n",
    "  fontpath = '/usr/share/fonts/truetype/nanum/NanumBarunGothic.ttf'\n",
    "  font = font_manager.FontProperties(fname=fontpath, size=9)\n",
    "  plt.rc('font', family='NanumBarunGothic')\n",
    "  font_manager._rebuild()"
   ]
  },
  {
   "cell_type": "code",
   "execution_count": 21,
   "id": "25204734",
   "metadata": {},
   "outputs": [
    {
     "data": {
      "text/html": [
       "<div>\n",
       "<style scoped>\n",
       "    .dataframe tbody tr th:only-of-type {\n",
       "        vertical-align: middle;\n",
       "    }\n",
       "\n",
       "    .dataframe tbody tr th {\n",
       "        vertical-align: top;\n",
       "    }\n",
       "\n",
       "    .dataframe thead th {\n",
       "        text-align: right;\n",
       "    }\n",
       "</style>\n",
       "<table border=\"1\" class=\"dataframe\">\n",
       "  <thead>\n",
       "    <tr style=\"text-align: right;\">\n",
       "      <th></th>\n",
       "      <th>vehicleno</th>\n",
       "      <th>nodenm</th>\n",
       "      <th>filename</th>\n",
       "      <th>diff</th>\n",
       "      <th>dval</th>\n",
       "    </tr>\n",
       "    <tr>\n",
       "      <th>time</th>\n",
       "      <th></th>\n",
       "      <th></th>\n",
       "      <th></th>\n",
       "      <th></th>\n",
       "      <th></th>\n",
       "    </tr>\n",
       "  </thead>\n",
       "  <tbody>\n",
       "    <tr>\n",
       "      <th>2021-08-25 09:22:02</th>\n",
       "      <td>1383</td>\n",
       "      <td>농협 양덕지점</td>\n",
       "      <td>./data/210825/092202.csv</td>\n",
       "      <td>0 days 00:13:00</td>\n",
       "      <td>13.000000</td>\n",
       "    </tr>\n",
       "    <tr>\n",
       "      <th>2021-08-25 09:39:02</th>\n",
       "      <td>1323</td>\n",
       "      <td>농협 양덕지점</td>\n",
       "      <td>./data/210825/093902.csv</td>\n",
       "      <td>0 days 00:17:00</td>\n",
       "      <td>17.000000</td>\n",
       "    </tr>\n",
       "    <tr>\n",
       "      <th>2021-08-25 10:01:03</th>\n",
       "      <td>1349</td>\n",
       "      <td>농협 양덕지점</td>\n",
       "      <td>./data/210825/100103.csv</td>\n",
       "      <td>0 days 00:22:01</td>\n",
       "      <td>22.016667</td>\n",
       "    </tr>\n",
       "    <tr>\n",
       "      <th>2021-08-25 10:18:03</th>\n",
       "      <td>1348</td>\n",
       "      <td>농협 양덕지점</td>\n",
       "      <td>./data/210825/101803.csv</td>\n",
       "      <td>0 days 00:17:00</td>\n",
       "      <td>17.000000</td>\n",
       "    </tr>\n",
       "    <tr>\n",
       "      <th>2021-08-25 10:39:02</th>\n",
       "      <td>1428</td>\n",
       "      <td>농협 양덕지점</td>\n",
       "      <td>./data/210825/103902.csv</td>\n",
       "      <td>0 days 00:20:59</td>\n",
       "      <td>20.983333</td>\n",
       "    </tr>\n",
       "  </tbody>\n",
       "</table>\n",
       "</div>"
      ],
      "text/plain": [
       "                    vehicleno   nodenm                  filename  \\\n",
       "time                                                               \n",
       "2021-08-25 09:22:02      1383  농협 양덕지점  ./data/210825/092202.csv   \n",
       "2021-08-25 09:39:02      1323  농협 양덕지점  ./data/210825/093902.csv   \n",
       "2021-08-25 10:01:03      1349  농협 양덕지점  ./data/210825/100103.csv   \n",
       "2021-08-25 10:18:03      1348  농협 양덕지점  ./data/210825/101803.csv   \n",
       "2021-08-25 10:39:02      1428  농협 양덕지점  ./data/210825/103902.csv   \n",
       "\n",
       "                               diff       dval  \n",
       "time                                            \n",
       "2021-08-25 09:22:02 0 days 00:13:00  13.000000  \n",
       "2021-08-25 09:39:02 0 days 00:17:00  17.000000  \n",
       "2021-08-25 10:01:03 0 days 00:22:01  22.016667  \n",
       "2021-08-25 10:18:03 0 days 00:17:00  17.000000  \n",
       "2021-08-25 10:39:02 0 days 00:20:59  20.983333  "
      ]
     },
     "execution_count": 21,
     "metadata": {},
     "output_type": "execute_result"
    }
   ],
   "source": [
    "vis = pd.DataFrame(all_datas)\n",
    "vis['dval'] = all_datas.dropna(subset=[\"diff\"])[\"diff\"].dt.seconds.div(60, fill_value=0)\n",
    "vis = vis[(goodcond)]\n",
    "vis.head()"
   ]
  },
  {
   "cell_type": "code",
   "execution_count": 25,
   "id": "b012a86c",
   "metadata": {},
   "outputs": [
    {
     "data": {
      "text/html": [
       "<div>\n",
       "<style scoped>\n",
       "    .dataframe tbody tr th:only-of-type {\n",
       "        vertical-align: middle;\n",
       "    }\n",
       "\n",
       "    .dataframe tbody tr th {\n",
       "        vertical-align: top;\n",
       "    }\n",
       "\n",
       "    .dataframe thead th {\n",
       "        text-align: right;\n",
       "    }\n",
       "</style>\n",
       "<table border=\"1\" class=\"dataframe\">\n",
       "  <thead>\n",
       "    <tr style=\"text-align: right;\">\n",
       "      <th></th>\n",
       "      <th>dval</th>\n",
       "    </tr>\n",
       "    <tr>\n",
       "      <th>hour</th>\n",
       "      <th></th>\n",
       "    </tr>\n",
       "  </thead>\n",
       "  <tbody>\n",
       "    <tr>\n",
       "      <th>9</th>\n",
       "      <td>16.929096</td>\n",
       "    </tr>\n",
       "    <tr>\n",
       "      <th>10</th>\n",
       "      <td>19.282746</td>\n",
       "    </tr>\n",
       "    <tr>\n",
       "      <th>11</th>\n",
       "      <td>18.312269</td>\n",
       "    </tr>\n",
       "    <tr>\n",
       "      <th>12</th>\n",
       "      <td>17.691818</td>\n",
       "    </tr>\n",
       "    <tr>\n",
       "      <th>13</th>\n",
       "      <td>17.594271</td>\n",
       "    </tr>\n",
       "    <tr>\n",
       "      <th>14</th>\n",
       "      <td>18.607488</td>\n",
       "    </tr>\n",
       "    <tr>\n",
       "      <th>15</th>\n",
       "      <td>18.678450</td>\n",
       "    </tr>\n",
       "    <tr>\n",
       "      <th>16</th>\n",
       "      <td>18.503604</td>\n",
       "    </tr>\n",
       "    <tr>\n",
       "      <th>17</th>\n",
       "      <td>19.457512</td>\n",
       "    </tr>\n",
       "    <tr>\n",
       "      <th>18</th>\n",
       "      <td>20.147037</td>\n",
       "    </tr>\n",
       "    <tr>\n",
       "      <th>19</th>\n",
       "      <td>16.578933</td>\n",
       "    </tr>\n",
       "    <tr>\n",
       "      <th>20</th>\n",
       "      <td>18.685798</td>\n",
       "    </tr>\n",
       "    <tr>\n",
       "      <th>21</th>\n",
       "      <td>18.248847</td>\n",
       "    </tr>\n",
       "    <tr>\n",
       "      <th>22</th>\n",
       "      <td>15.157602</td>\n",
       "    </tr>\n",
       "  </tbody>\n",
       "</table>\n",
       "</div>"
      ],
      "text/plain": [
       "           dval\n",
       "hour           \n",
       "9     16.929096\n",
       "10    19.282746\n",
       "11    18.312269\n",
       "12    17.691818\n",
       "13    17.594271\n",
       "14    18.607488\n",
       "15    18.678450\n",
       "16    18.503604\n",
       "17    19.457512\n",
       "18    20.147037\n",
       "19    16.578933\n",
       "20    18.685798\n",
       "21    18.248847\n",
       "22    15.157602"
      ]
     },
     "execution_count": 25,
     "metadata": {},
     "output_type": "execute_result"
    }
   ],
   "source": [
    "vis['hour'] = vis.index.hour\n",
    "hourdata = vis.groupby(by=\"hour\").mean()\n",
    "hourdata"
   ]
  },
  {
   "cell_type": "code",
   "execution_count": 77,
   "id": "5a538eba",
   "metadata": {},
   "outputs": [
    {
     "data": {
      "image/png": "[encoded data removed]",
      "text/plain": [
       "<Figure size 720x1080 with 1 Axes>"
      ]
     },
     "metadata": {
      "needs_background": "light"
     },
     "output_type": "display_data"
    }
   ],
   "source": [
    "import matplotlib.pyplot as plt\n",
    "import seaborn as sns\n",
    "%matplotlib inline\n",
    "\n",
    "# 그래프 준비\n",
    "plt.figure(figsize=(10,15))\n",
    "# hourdata.dtypes\n",
    "# plt.barh(hourdata.index.astype(str), hourdata['dval'])\n",
    "\n",
    "barg = sns.barplot(x=hourdata['dval'], y=hourdata.index.astype(str), alpha=0.9, orient='h')\n",
    "\n",
    "# Label 추가\n",
    "for p in barg.patches:\n",
    "    width = p.get_width()\n",
    "    plt.text(1+p.get_width(), p.get_y()+0.55*p.get_height(),\n",
    "             '{:1.2f}'.format(width),\n",
    "             ha='center', va='center')\n",
    "\n",
    "plt.title(\"302번 농협 양덕지점 (한동대 방향) 시간별 배차간격\")\n",
    "plt.xlabel(\"평균 배차간격\")\n",
    "\n",
    "plt.show()\n",
    "\n"
   ]
  },
  {
   "cell_type": "code",
   "execution_count": null,
   "id": "65359b35",
   "metadata": {},
   "outputs": [],
   "source": []
  },
  {
   "cell_type": "markdown",
   "id": "b22d7b73",
   "metadata": {},
   "source": [
    "------------\n",
    "\n",
    "# Test Process"
   ]
  },
  {
   "cell_type": "code",
   "execution_count": null,
   "id": "336f3d7b",
   "metadata": {},
   "outputs": [],
   "source": [
    "copy = pd.DataFrame(all_datas)\n",
    "copy.head()"
   ]
  },
  {
   "cell_type": "code",
   "execution_count": null,
   "id": "0bbf89f3",
   "metadata": {},
   "outputs": [],
   "source": [
    "copy.dropna(subset=[\"diff\"], inplace=True)\n",
    "copy['dval'] = all_datas.dropna(subset=[\"diff\"])[\"diff\"].dt.seconds.div(60, fill_value=0)\n",
    "copy.head()"
   ]
  },
  {
   "cell_type": "code",
   "execution_count": null,
   "id": "6f2562e3",
   "metadata": {},
   "outputs": [],
   "source": [
    "copy.loc[copy['dval'] > 70].sort_values(by=[\"dval\"]).head()"
   ]
  },
  {
   "cell_type": "code",
   "execution_count": null,
   "id": "9643a451",
   "metadata": {},
   "outputs": [],
   "source": [
    "copy.loc[copy['dval'] == 0]"
   ]
  },
  {
   "cell_type": "code",
   "execution_count": null,
   "id": "62ceb2ce",
   "metadata": {},
   "outputs": [],
   "source": [
    "# all Days\n",
    "print(\"Number of days:\", len(copy.groupby(pd.Grouper(freq='D'))))"
   ]
  },
  {
   "cell_type": "code",
   "execution_count": null,
   "id": "9bfc9872",
   "metadata": {
    "scrolled": true
   },
   "outputs": [],
   "source": [
    "copy.sort_values(['time', 'vehicleno']).loc[\"2021-10-18\"]"
   ]
  },
  {
   "cell_type": "code",
   "execution_count": null,
   "id": "8310d018",
   "metadata": {},
   "outputs": [],
   "source": [
    "# 빈파일 목록 확인\n",
    "empty_files = []\n",
    "for name, data in all_df.items():\n",
    "    if len(data) == 0:\n",
    "        empty_files.append(name)\n",
    "len(empty_files)"
   ]
  },
  {
   "cell_type": "code",
   "execution_count": null,
   "id": "d686d8a9",
   "metadata": {},
   "outputs": [],
   "source": [
    "import numpy as np\n",
    "# 빈파일들에는 null 데이터를 추가하여 다음 시간이 계산이 안되게 처리.\n",
    "for file in empty_files:\n",
    "    datetime = pd.to_datetime(file, format=\"%y%m%d/%H%M%S\", errors=\"coerce\", exact=False)\n",
    "    copy.loc[datetime] = [np.nan for i in range(len(copy.columns))]"
   ]
  },
  {
   "cell_type": "code",
   "execution_count": null,
   "id": "4057740a",
   "metadata": {
    "scrolled": false
   },
   "outputs": [],
   "source": [
    "copyr = copy.sort_index()\n",
    "copyr[\"diff2\"] = copyr.index.to_series().diff()\n",
    "copyr = copyr[~copyr.vehicleno.shift().isna()].dropna(subset=['filename'])\n",
    "print(len(copyr))\n",
    "# copyr.loc['2021-09-14 13:30':'2021-09-14 16:30']"
   ]
  },
  {
   "cell_type": "code",
   "execution_count": null,
   "id": "451b7890",
   "metadata": {},
   "outputs": [],
   "source": [
    "# all_datas[\"diff\"]\n",
    "copyr_diffdata = copyr.dropna(subset=[\"diff\"])[\"diff\"].dt.seconds.div(60, fill_value=0)\n",
    "copyr_diffdata[(copyr_diffdata < 120) & (copyr_diffdata > 2)].describe() # 최대시간을 2시간으로 두어 익일인 경우 무시."
   ]
  },
  {
   "cell_type": "code",
   "execution_count": null,
   "id": "2006478b",
   "metadata": {
    "scrolled": false
   },
   "outputs": [],
   "source": [
    "# Remove diff data if last row doesn't have any information\n",
    "for item in copyr.index:\n",
    "    print(copyr.vehicleno.shift().loc[item])\n",
    "    if pd.isnull(copyr.vehicleno.shift().loc[item]):\n",
    "        copyr.loc[item, \"dval\"] = np.nan"
   ]
  },
  {
   "cell_type": "code",
   "execution_count": null,
   "id": "61c4589d",
   "metadata": {},
   "outputs": [],
   "source": [
    "copyr.diff2"
   ]
  },
  {
   "cell_type": "code",
   "execution_count": null,
   "id": "4f98e522",
   "metadata": {},
   "outputs": [],
   "source": [
    "copy"
   ]
  },
  {
   "cell_type": "code",
   "execution_count": null,
   "id": "b19d090d",
   "metadata": {},
   "outputs": [],
   "source": [
    "copy.sort_index().loc['2021-09-14 13:30':'2021-09-14 16:30']"
   ]
  },
  {
   "cell_type": "code",
   "execution_count": null,
   "id": "c63250d3",
   "metadata": {},
   "outputs": [],
   "source": [
    "pd.set_option('display.max_rows', None)"
   ]
  },
  {
   "cell_type": "code",
   "execution_count": null,
   "id": "47ba2e97",
   "metadata": {
    "scrolled": true
   },
   "outputs": [],
   "source": [
    "copy.sort_index().loc['2021-09-14']"
   ]
  },
  {
   "cell_type": "code",
   "execution_count": null,
   "id": "6a0a266e",
   "metadata": {},
   "outputs": [],
   "source": [
    "# Filter all empty files\n",
    "len(result)"
   ]
  },
  {
   "cell_type": "code",
   "execution_count": null,
   "id": "b488eef9",
   "metadata": {
    "scrolled": true
   },
   "outputs": [],
   "source": [
    "# https://stackoverflow.com/questions/56057755/extract-all-rows-in-dataframe-having-same-date\n",
    "for name, group in copy.groupby(pd.Grouper(freq='D')):\n",
    "    print(name)"
   ]
  }
 ],
 "metadata": {
  "kernelspec": {
   "display_name": "Python 3 (ipykernel)",
   "language": "python",
   "name": "python3"
  },
  "language_info": {
   "codemirror_mode": {
    "name": "ipython",
    "version": 3
   },
   "file_extension": ".py",
   "mimetype": "text/x-python",
   "name": "python",
   "nbconvert_exporter": "python",
   "pygments_lexer": "ipython3",
   "version": "3.9.6"
  }
 },
 "nbformat": 4,
 "nbformat_minor": 5
}
