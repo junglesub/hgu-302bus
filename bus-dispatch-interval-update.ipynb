{
 "cells": [
  {
   "cell_type": "code",
   "execution_count": null,
   "id": "c7994726",
   "metadata": {},
   "outputs": [],
   "source": [
    "# Install dependencies\n",
    "!pip3.9 install --upgrade pip\n",
    "!pip3.9 install pandas tqdm multiprocess"
   ]
  },
  {
   "cell_type": "code",
   "execution_count": 1,
   "id": "29b1e011",
   "metadata": {},
   "outputs": [],
   "source": [
    "# from tqdm.notebook import tqdm, trange\n",
    "from tqdm import tqdm\n",
    "import pandas as pd\n",
    "import numpy as np\n",
    "import glob"
   ]
  },
  {
   "cell_type": "code",
   "execution_count": 2,
   "id": "7a964a26",
   "metadata": {},
   "outputs": [],
   "source": [
    "datadir = \"./data/*/\"\n",
    "all_datas = sorted(glob.glob(datadir + \"*.csv\"))"
   ]
  },
  {
   "cell_type": "code",
   "execution_count": 3,
   "id": "af63bdbd",
   "metadata": {},
   "outputs": [
    {
     "name": "stdout",
     "output_type": "stream",
     "text": [
      "Data CSV Count: 42863\n"
     ]
    }
   ],
   "source": [
    "# CSV Count\n",
    "print(\"Data CSV Count:\", len(all_datas))"
   ]
  },
  {
   "cell_type": "code",
   "execution_count": 4,
   "id": "c66387ab",
   "metadata": {},
   "outputs": [
    {
     "name": "stdout",
     "output_type": "stream",
     "text": [
      "Read files...\n"
     ]
    },
    {
     "name": "stderr",
     "output_type": "stream",
     "text": [
      " 23%|██████▊                       | 9694/42863 [00:08<00:28, 1162.69it/s]Process ForkPoolWorker-1:\n",
      "Process ForkPoolWorker-4:\n",
      "\n",
      "Process ForkPoolWorker-8:\n",
      "Process ForkPoolWorker-7:\n",
      "Process ForkPoolWorker-5:\n",
      "Process ForkPoolWorker-2:\n",
      "Process ForkPoolWorker-6:\n",
      "Traceback (most recent call last):\n",
      "Traceback (most recent call last):\n",
      "Traceback (most recent call last):\n",
      "Traceback (most recent call last):\n",
      "  File \"/usr/local/lib/python3.9/site-packages/multiprocess/process.py\", line 315, in _bootstrap\n",
      "    self.run()\n",
      "  File \"/usr/local/lib/python3.9/site-packages/multiprocess/process.py\", line 315, in _bootstrap\n",
      "    self.run()\n",
      "  File \"/usr/local/lib/python3.9/site-packages/multiprocess/process.py\", line 315, in _bootstrap\n",
      "    self.run()\n",
      "Traceback (most recent call last):\n",
      "  File \"/usr/local/lib/python3.9/site-packages/multiprocess/process.py\", line 315, in _bootstrap\n",
      "    self.run()\n",
      "  File \"/usr/local/lib/python3.9/site-packages/multiprocess/process.py\", line 108, in run\n",
      "    self._target(*self._args, **self._kwargs)\n",
      "Traceback (most recent call last):\n",
      "  File \"/usr/local/lib/python3.9/site-packages/multiprocess/process.py\", line 108, in run\n",
      "    self._target(*self._args, **self._kwargs)\n",
      "  File \"/usr/local/lib/python3.9/site-packages/multiprocess/process.py\", line 315, in _bootstrap\n",
      "    self.run()\n",
      "  File \"/usr/local/lib/python3.9/site-packages/multiprocess/process.py\", line 108, in run\n",
      "    self._target(*self._args, **self._kwargs)\n",
      "  File \"/usr/local/lib/python3.9/site-packages/multiprocess/pool.py\", line 131, in worker\n",
      "    put((job, i, result))\n",
      "  File \"/usr/local/lib/python3.9/site-packages/multiprocess/process.py\", line 315, in _bootstrap\n",
      "    self.run()\n",
      "  File \"/usr/local/lib/python3.9/site-packages/multiprocess/pool.py\", line 131, in worker\n",
      "    put((job, i, result))\n",
      "  File \"/usr/local/lib/python3.9/site-packages/multiprocess/process.py\", line 108, in run\n",
      "    self._target(*self._args, **self._kwargs)\n",
      "  File \"/usr/local/lib/python3.9/site-packages/multiprocess/process.py\", line 108, in run\n",
      "    self._target(*self._args, **self._kwargs)\n",
      "  File \"/usr/local/lib/python3.9/site-packages/multiprocess/pool.py\", line 125, in worker\n",
      "    result = (True, func(*args, **kwds))\n",
      "  File \"/usr/local/lib/python3.9/site-packages/multiprocess/queues.py\", line 375, in put\n",
      "    obj = _ForkingPickler.dumps(obj)\n",
      "  File \"/usr/local/lib/python3.9/site-packages/multiprocess/queues.py\", line 380, in put\n",
      "    with self._wlock:\n",
      "  File \"/usr/local/lib/python3.9/site-packages/multiprocess/process.py\", line 108, in run\n",
      "    self._target(*self._args, **self._kwargs)\n",
      "  File \"/usr/local/lib/python3.9/site-packages/multiprocess/pool.py\", line 131, in worker\n",
      "    put((job, i, result))\n",
      "  File \"/usr/local/lib/python3.9/site-packages/multiprocess/pool.py\", line 131, in worker\n",
      "    put((job, i, result))\n",
      "  File \"/var/folders/hf/vsglmmmn0s93s954hzwf_ph40000gn/T/ipykernel_85648/2483726311.py\", line 8, in read\n",
      "    data = pd.read_csv(filename)\n",
      "  File \"/usr/local/lib/python3.9/site-packages/multiprocess/reduction.py\", line 54, in dumps\n",
      "    cls(buf, protocol, *args, **kwds).dump(obj)\n",
      "  File \"/usr/local/lib/python3.9/site-packages/multiprocess/pool.py\", line 131, in worker\n",
      "    put((job, i, result))\n",
      "  File \"/usr/local/lib/python3.9/site-packages/multiprocess/synchronize.py\", line 101, in __enter__\n",
      "    return self._semlock.__enter__()\n",
      "  File \"/usr/local/lib/python3.9/site-packages/multiprocess/queues.py\", line 375, in put\n",
      "    obj = _ForkingPickler.dumps(obj)\n",
      "  File \"/usr/local/lib/python3.9/site-packages/multiprocess/queues.py\", line 381, in put\n",
      "    self._writer.send_bytes(obj)\n",
      "KeyboardInterrupt\n",
      "  File \"/usr/local/lib/python3.9/site-packages/pandas/util/_decorators.py\", line 311, in wrapper\n",
      "    return func(*args, **kwargs)\n",
      "  File \"/usr/local/lib/python3.9/site-packages/dill/_dill.py\", line 498, in dump\n",
      "    StockPickler.dump(self, obj)\n",
      "  File \"/usr/local/lib/python3.9/site-packages/multiprocess/queues.py\", line 380, in put\n",
      "    with self._wlock:\n",
      "  File \"/usr/local/lib/python3.9/site-packages/multiprocess/reduction.py\", line 54, in dumps\n",
      "    cls(buf, protocol, *args, **kwds).dump(obj)\n",
      "  File \"/usr/local/lib/python3.9/site-packages/pandas/io/parsers/readers.py\", line 586, in read_csv\n",
      "    return _read(filepath_or_buffer, kwds)\n",
      "KeyboardInterrupt\n",
      "  File \"/usr/local/lib/python3.9/site-packages/multiprocess/synchronize.py\", line 101, in __enter__\n",
      "    return self._semlock.__enter__()\n",
      "  File \"/usr/local/Cellar/python@3.9/3.9.7_1/Frameworks/Python.framework/Versions/3.9/lib/python3.9/pickle.py\", line 487, in dump\n",
      "    self.save(obj)\n",
      "  File \"/usr/local/lib/python3.9/site-packages/dill/_dill.py\", line 498, in dump\n",
      "    StockPickler.dump(self, obj)\n",
      "Traceback (most recent call last):\n",
      "  File \"/usr/local/lib/python3.9/site-packages/pandas/io/parsers/readers.py\", line 488, in _read\n",
      "    return parser.read(nrows)\n",
      "  File \"/usr/local/Cellar/python@3.9/3.9.7_1/Frameworks/Python.framework/Versions/3.9/lib/python3.9/pickle.py\", line 560, in save\n",
      "    f(self, obj)  # Call unbound method with explicit self\n",
      "KeyboardInterrupt\n",
      "  File \"/usr/local/Cellar/python@3.9/3.9.7_1/Frameworks/Python.framework/Versions/3.9/lib/python3.9/pickle.py\", line 487, in dump\n",
      "    self.save(obj)\n",
      "  File \"/usr/local/lib/python3.9/site-packages/multiprocess/process.py\", line 315, in _bootstrap\n",
      "    self.run()\n",
      "  File \"/usr/local/lib/python3.9/site-packages/pandas/io/parsers/readers.py\", line 1047, in read\n",
      "    index, columns, col_dict = self._engine.read(nrows)\n",
      "  File \"/usr/local/Cellar/python@3.9/3.9.7_1/Frameworks/Python.framework/Versions/3.9/lib/python3.9/pickle.py\", line 886, in save_tuple\n",
      "    save(element)\n",
      "  File \"/usr/local/lib/python3.9/site-packages/multiprocess/process.py\", line 108, in run\n",
      "    self._target(*self._args, **self._kwargs)\n",
      "  File \"/usr/local/lib/python3.9/site-packages/pandas/io/parsers/c_parser_wrapper.py\", line 223, in read\n",
      "    chunks = self._reader.read_low_memory(nrows)\n",
      "  File \"/usr/local/Cellar/python@3.9/3.9.7_1/Frameworks/Python.framework/Versions/3.9/lib/python3.9/pickle.py\", line 560, in save\n",
      "    f(self, obj)  # Call unbound method with explicit self\n",
      "  File \"/usr/local/Cellar/python@3.9/3.9.7_1/Frameworks/Python.framework/Versions/3.9/lib/python3.9/pickle.py\", line 560, in save\n",
      "    f(self, obj)  # Call unbound method with explicit self\n",
      "  File \"/usr/local/Cellar/python@3.9/3.9.7_1/Frameworks/Python.framework/Versions/3.9/lib/python3.9/pickle.py\", line 886, in save_tuple\n",
      "    save(element)\n",
      "Process ForkPoolWorker-3:\n",
      "  File \"pandas/_libs/parsers.pyx\", line 801, in pandas._libs.parsers.TextReader.read_low_memory\n",
      "  File \"/usr/local/lib/python3.9/site-packages/multiprocess/pool.py\", line 125, in worker\n",
      "    result = (True, func(*args, **kwds))\n",
      "  File \"/usr/local/Cellar/python@3.9/3.9.7_1/Frameworks/Python.framework/Versions/3.9/lib/python3.9/pickle.py\", line 886, in save_tuple\n",
      "    save(element)\n",
      "  File \"pandas/_libs/parsers.pyx\", line 880, in pandas._libs.parsers.TextReader._read_rows\n",
      "  File \"/usr/local/Cellar/python@3.9/3.9.7_1/Frameworks/Python.framework/Versions/3.9/lib/python3.9/pickle.py\", line 560, in save\n",
      "    f(self, obj)  # Call unbound method with explicit self\n",
      "  File \"/var/folders/hf/vsglmmmn0s93s954hzwf_ph40000gn/T/ipykernel_85648/2483726311.py\", line 8, in read\n",
      "    data = pd.read_csv(filename)\n",
      "  File \"/usr/local/Cellar/python@3.9/3.9.7_1/Frameworks/Python.framework/Versions/3.9/lib/python3.9/pickle.py\", line 560, in save\n",
      "    f(self, obj)  # Call unbound method with explicit self\n",
      "  File \"/usr/local/Cellar/python@3.9/3.9.7_1/Frameworks/Python.framework/Versions/3.9/lib/python3.9/pickle.py\", line 886, in save_tuple\n",
      "    save(element)\n",
      "  File \"pandas/_libs/parsers.pyx\", line 1026, in pandas._libs.parsers.TextReader._convert_column_data\n",
      "  File \"/usr/local/lib/python3.9/site-packages/pandas/util/_decorators.py\", line 311, in wrapper\n",
      "    return func(*args, **kwargs)\n",
      "  File \"pandas/_libs/parsers.pyx\", line 1073, in pandas._libs.parsers.TextReader._convert_tokens\n",
      "  File \"/usr/local/Cellar/python@3.9/3.9.7_1/Frameworks/Python.framework/Versions/3.9/lib/python3.9/pickle.py\", line 886, in save_tuple\n",
      "    save(element)\n",
      "  File \"/usr/local/Cellar/python@3.9/3.9.7_1/Frameworks/Python.framework/Versions/3.9/lib/python3.9/pickle.py\", line 603, in save\n",
      "    self.save_reduce(obj=obj, *rv)\n"
     ]
    },
    {
     "name": "stderr",
     "output_type": "stream",
     "text": [
      "  File \"/usr/local/Cellar/python@3.9/3.9.7_1/Frameworks/Python.framework/Versions/3.9/lib/python3.9/pickle.py\", line 717, in save_reduce\n",
      "    save(state)\n",
      "  File \"/usr/local/Cellar/python@3.9/3.9.7_1/Frameworks/Python.framework/Versions/3.9/lib/python3.9/pickle.py\", line 560, in save\n",
      "    f(self, obj)  # Call unbound method with explicit self\n",
      "  File \"/usr/local/lib/python3.9/site-packages/pandas/io/parsers/readers.py\", line 586, in read_csv\n",
      "    return _read(filepath_or_buffer, kwds)\n",
      "  File \"pandas/_libs/parsers.pyx\", line 1129, in pandas._libs.parsers.TextReader._convert_with_dtype\n",
      "  File \"/usr/local/Cellar/python@3.9/3.9.7_1/Frameworks/Python.framework/Versions/3.9/lib/python3.9/pickle.py\", line 560, in save\n",
      "    f(self, obj)  # Call unbound method with explicit self\n",
      "  File \"/usr/local/Cellar/python@3.9/3.9.7_1/Frameworks/Python.framework/Versions/3.9/lib/python3.9/pickle.py\", line 886, in save_tuple\n",
      "    save(element)\n",
      "  File \"/usr/local/lib/python3.9/site-packages/pandas/io/parsers/readers.py\", line 488, in _read\n",
      "    return parser.read(nrows)\n",
      "  File \"/usr/local/lib/python3.9/site-packages/pandas/core/dtypes/common.py\", line 1420, in is_extension_array_dtype\n",
      "    def is_extension_array_dtype(arr_or_dtype) -> bool:\n",
      "  File \"/usr/local/lib/python3.9/site-packages/dill/_dill.py\", line 990, in save_module_dict\n",
      "    StockPickler.save_dict(pickler, obj)\n",
      "  File \"/usr/local/Cellar/python@3.9/3.9.7_1/Frameworks/Python.framework/Versions/3.9/lib/python3.9/pickle.py\", line 603, in save\n",
      "    self.save_reduce(obj=obj, *rv)\n",
      "  File \"/usr/local/lib/python3.9/site-packages/pandas/io/parsers/readers.py\", line 1059, in read\n",
      "    df = DataFrame(col_dict, columns=columns, index=index)\n",
      "KeyboardInterrupt\n",
      "  File \"/usr/local/Cellar/python@3.9/3.9.7_1/Frameworks/Python.framework/Versions/3.9/lib/python3.9/pickle.py\", line 971, in save_dict\n",
      "    self._batch_setitems(obj.items())\n",
      "  File \"/usr/local/Cellar/python@3.9/3.9.7_1/Frameworks/Python.framework/Versions/3.9/lib/python3.9/pickle.py\", line 717, in save_reduce\n",
      "    save(state)\n",
      "  File \"/usr/local/lib/python3.9/site-packages/pandas/core/frame.py\", line 614, in __init__\n",
      "    mgr = dict_to_mgr(data, index, columns, dtype=dtype, copy=copy, typ=manager)\n",
      "  File \"/usr/local/Cellar/python@3.9/3.9.7_1/Frameworks/Python.framework/Versions/3.9/lib/python3.9/pickle.py\", line 997, in _batch_setitems\n",
      "    save(v)\n",
      "  File \"/usr/local/Cellar/python@3.9/3.9.7_1/Frameworks/Python.framework/Versions/3.9/lib/python3.9/pickle.py\", line 603, in save\n",
      "    self.save_reduce(obj=obj, *rv)\n",
      "  File \"/usr/local/lib/python3.9/site-packages/pandas/core/internals/construction.py\", line 416, in dict_to_mgr\n",
      "    arrays = Series(data, index=columns, dtype=object)\n",
      "  File \"/usr/local/Cellar/python@3.9/3.9.7_1/Frameworks/Python.framework/Versions/3.9/lib/python3.9/pickle.py\", line 560, in save\n",
      "    f(self, obj)  # Call unbound method with explicit self\n",
      "  File \"/usr/local/Cellar/python@3.9/3.9.7_1/Frameworks/Python.framework/Versions/3.9/lib/python3.9/pickle.py\", line 692, in save_reduce\n",
      "    save(args)\n",
      "  File \"/usr/local/lib/python3.9/site-packages/pandas/core/series.py\", line 405, in __init__\n",
      "    data, index = self._init_dict(data, index, dtype)\n",
      "  File \"/usr/local/lib/python3.9/site-packages/dill/_dill.py\", line 990, in save_module_dict\n",
      "    StockPickler.save_dict(pickler, obj)\n",
      "  File \"/usr/local/Cellar/python@3.9/3.9.7_1/Frameworks/Python.framework/Versions/3.9/lib/python3.9/pickle.py\", line 560, in save\n",
      "    f(self, obj)  # Call unbound method with explicit self\n",
      "  File \"/usr/local/lib/python3.9/site-packages/pandas/core/series.py\", line 502, in _init_dict\n",
      "    s = s.reindex(index, copy=False)\n",
      "  File \"/usr/local/Cellar/python@3.9/3.9.7_1/Frameworks/Python.framework/Versions/3.9/lib/python3.9/pickle.py\", line 971, in save_dict\n",
      "    self._batch_setitems(obj.items())\n",
      "  File \"/usr/local/lib/python3.9/site-packages/pandas/core/series.py\", line 4580, in reindex\n",
      "    return super().reindex(index=index, **kwargs)\n",
      "  File \"/usr/local/Cellar/python@3.9/3.9.7_1/Frameworks/Python.framework/Versions/3.9/lib/python3.9/pickle.py\", line 886, in save_tuple\n",
      "    save(element)\n",
      "  File \"/usr/local/Cellar/python@3.9/3.9.7_1/Frameworks/Python.framework/Versions/3.9/lib/python3.9/pickle.py\", line 997, in _batch_setitems\n",
      "    save(v)\n",
      "  File \"/usr/local/lib/python3.9/site-packages/pandas/core/generic.py\", line 4804, in reindex\n",
      "    if all(\n",
      "  File \"/usr/local/Cellar/python@3.9/3.9.7_1/Frameworks/Python.framework/Versions/3.9/lib/python3.9/pickle.py\", line 560, in save\n",
      "    f(self, obj)  # Call unbound method with explicit self\n",
      "  File \"/usr/local/Cellar/python@3.9/3.9.7_1/Frameworks/Python.framework/Versions/3.9/lib/python3.9/pickle.py\", line 603, in save\n",
      "    self.save_reduce(obj=obj, *rv)\n",
      "  File \"/usr/local/lib/python3.9/site-packages/pandas/core/generic.py\", line 4805, in <genexpr>\n",
      "    self._get_axis(axis).identical(ax)\n",
      "  File \"/usr/local/Cellar/python@3.9/3.9.7_1/Frameworks/Python.framework/Versions/3.9/lib/python3.9/pickle.py\", line 901, in save_tuple\n",
      "    save(element)\n",
      "  File \"/usr/local/Cellar/python@3.9/3.9.7_1/Frameworks/Python.framework/Versions/3.9/lib/python3.9/pickle.py\", line 692, in save_reduce\n",
      "    save(args)\n",
      "  File \"/usr/local/lib/python3.9/site-packages/pandas/core/indexes/base.py\", line 4820, in identical\n",
      "    self.equals(other)\n",
      "  File \"/usr/local/Cellar/python@3.9/3.9.7_1/Frameworks/Python.framework/Versions/3.9/lib/python3.9/pickle.py\", line 603, in save\n",
      "    self.save_reduce(obj=obj, *rv)\n",
      "  File \"/usr/local/lib/python3.9/site-packages/pandas/core/indexes/base.py\", line 4806, in equals\n",
      "    return array_equivalent(self._values, other._values)\n",
      "  File \"/usr/local/Cellar/python@3.9/3.9.7_1/Frameworks/Python.framework/Versions/3.9/lib/python3.9/pickle.py\", line 560, in save\n",
      "    f(self, obj)  # Call unbound method with explicit self\n",
      "  File \"/usr/local/Cellar/python@3.9/3.9.7_1/Frameworks/Python.framework/Versions/3.9/lib/python3.9/pickle.py\", line 692, in save_reduce\n",
      "    save(args)\n",
      "  File \"/usr/local/Cellar/python@3.9/3.9.7_1/Frameworks/Python.framework/Versions/3.9/lib/python3.9/pickle.py\", line 886, in save_tuple\n",
      "    save(element)\n",
      "  File \"/usr/local/lib/python3.9/site-packages/pandas/core/dtypes/missing.py\", line 442, in array_equivalent\n",
      "    if is_string_dtype(left.dtype) or is_string_dtype(right.dtype):\n",
      "  File \"/usr/local/lib/python3.9/site-packages/pandas/core/dtypes/common.py\", line 571, in is_string_dtype\n",
      "    return _is_dtype(arr_or_dtype, condition)\n",
      "  File \"/usr/local/Cellar/python@3.9/3.9.7_1/Frameworks/Python.framework/Versions/3.9/lib/python3.9/pickle.py\", line 560, in save\n",
      "    f(self, obj)  # Call unbound method with explicit self\n",
      "Traceback (most recent call last):\n",
      "  File \"/usr/local/Cellar/python@3.9/3.9.7_1/Frameworks/Python.framework/Versions/3.9/lib/python3.9/pickle.py\", line 560, in save\n",
      "    f(self, obj)  # Call unbound method with explicit self\n",
      "  File \"/usr/local/Cellar/python@3.9/3.9.7_1/Frameworks/Python.framework/Versions/3.9/lib/python3.9/pickle.py\", line 886, in save_tuple\n",
      "    save(element)\n",
      "  File \"/usr/local/lib/python3.9/site-packages/pandas/core/dtypes/common.py\", line 1540, in _is_dtype\n",
      "    return condition(dtype)\n",
      "  File \"/usr/local/lib/python3.9/site-packages/multiprocess/process.py\", line 315, in _bootstrap\n",
      "    self.run()\n",
      "  File \"/usr/local/Cellar/python@3.9/3.9.7_1/Frameworks/Python.framework/Versions/3.9/lib/python3.9/pickle.py\", line 901, in save_tuple\n",
      "    save(element)\n",
      "  File \"/usr/local/lib/python3.9/site-packages/pandas/core/dtypes/common.py\", line 562, in condition\n",
      "    return dtype.kind in (\"O\", \"S\", \"U\") and not is_excluded_dtype(dtype)\n",
      "  File \"/usr/local/Cellar/python@3.9/3.9.7_1/Frameworks/Python.framework/Versions/3.9/lib/python3.9/pickle.py\", line 603, in save\n",
      "    self.save_reduce(obj=obj, *rv)\n",
      "  File \"/usr/local/Cellar/python@3.9/3.9.7_1/Frameworks/Python.framework/Versions/3.9/lib/python3.9/pickle.py\", line 603, in save\n",
      "    self.save_reduce(obj=obj, *rv)\n",
      "  File \"/usr/local/Cellar/python@3.9/3.9.7_1/Frameworks/Python.framework/Versions/3.9/lib/python3.9/pickle.py\", line 692, in save_reduce\n",
      "    save(args)\n",
      "  File \"/usr/local/lib/python3.9/site-packages/pandas/core/dtypes/common.py\", line 569, in is_excluded_dtype\n",
      "    return any(is_excluded(dtype) for is_excluded in is_excluded_checks)\n"
     ]
    },
    {
     "name": "stderr",
     "output_type": "stream",
     "text": [
      "  File \"/usr/local/Cellar/python@3.9/3.9.7_1/Frameworks/Python.framework/Versions/3.9/lib/python3.9/pickle.py\", line 717, in save_reduce\n",
      "    save(state)\n",
      "  File \"/usr/local/Cellar/python@3.9/3.9.7_1/Frameworks/Python.framework/Versions/3.9/lib/python3.9/pickle.py\", line 560, in save\n",
      "    f(self, obj)  # Call unbound method with explicit self\n",
      "  File \"/usr/local/lib/python3.9/site-packages/pandas/core/dtypes/common.py\", line 569, in <genexpr>\n",
      "    return any(is_excluded(dtype) for is_excluded in is_excluded_checks)\n",
      "  File \"/usr/local/Cellar/python@3.9/3.9.7_1/Frameworks/Python.framework/Versions/3.9/lib/python3.9/pickle.py\", line 560, in save\n",
      "    f(self, obj)  # Call unbound method with explicit self\n",
      "KeyboardInterrupt\n",
      "  File \"/usr/local/Cellar/python@3.9/3.9.7_1/Frameworks/Python.framework/Versions/3.9/lib/python3.9/pickle.py\", line 886, in save_tuple\n",
      "    save(element)\n",
      "  File \"/usr/local/Cellar/python@3.9/3.9.7_1/Frameworks/Python.framework/Versions/3.9/lib/python3.9/pickle.py\", line 603, in save\n",
      "    self.save_reduce(obj=obj, *rv)\n",
      "  File \"/usr/local/Cellar/python@3.9/3.9.7_1/Frameworks/Python.framework/Versions/3.9/lib/python3.9/pickle.py\", line 901, in save_tuple\n",
      "    save(element)\n",
      "  File \"/usr/local/lib/python3.9/site-packages/multiprocess/process.py\", line 108, in run\n",
      "    self._target(*self._args, **self._kwargs)\n",
      "  File \"/usr/local/Cellar/python@3.9/3.9.7_1/Frameworks/Python.framework/Versions/3.9/lib/python3.9/pickle.py\", line 560, in save\n",
      "    f(self, obj)  # Call unbound method with explicit self\n",
      "  File \"/usr/local/Cellar/python@3.9/3.9.7_1/Frameworks/Python.framework/Versions/3.9/lib/python3.9/pickle.py\", line 717, in save_reduce\n",
      "    save(state)\n",
      "  File \"/usr/local/Cellar/python@3.9/3.9.7_1/Frameworks/Python.framework/Versions/3.9/lib/python3.9/pickle.py\", line 926, in save_list\n",
      "    self.write(EMPTY_LIST)\n",
      "  File \"/usr/local/Cellar/python@3.9/3.9.7_1/Frameworks/Python.framework/Versions/3.9/lib/python3.9/pickle.py\", line 560, in save\n",
      "    f(self, obj)  # Call unbound method with explicit self\n",
      "  File \"/usr/local/Cellar/python@3.9/3.9.7_1/Frameworks/Python.framework/Versions/3.9/lib/python3.9/pickle.py\", line 241, in write\n",
      "    def write(self, data):\n",
      "  File \"/usr/local/Cellar/python@3.9/3.9.7_1/Frameworks/Python.framework/Versions/3.9/lib/python3.9/pickle.py\", line 901, in save_tuple\n",
      "    save(element)\n",
      "KeyboardInterrupt\n",
      "  File \"/usr/local/Cellar/python@3.9/3.9.7_1/Frameworks/Python.framework/Versions/3.9/lib/python3.9/pickle.py\", line 560, in save\n",
      "    f(self, obj)  # Call unbound method with explicit self\n",
      "  File \"/usr/local/lib/python3.9/site-packages/multiprocess/pool.py\", line 125, in worker\n",
      "    result = (True, func(*args, **kwds))\n",
      "  File \"/usr/local/Cellar/python@3.9/3.9.7_1/Frameworks/Python.framework/Versions/3.9/lib/python3.9/pickle.py\", line 931, in save_list\n",
      "    self._batch_appends(obj)\n",
      "  File \"/var/folders/hf/vsglmmmn0s93s954hzwf_ph40000gn/T/ipykernel_85648/2483726311.py\", line 8, in read\n",
      "    data = pd.read_csv(filename)\n",
      "  File \"/usr/local/lib/python3.9/site-packages/pandas/util/_decorators.py\", line 311, in wrapper\n",
      "    return func(*args, **kwargs)\n",
      "  File \"/usr/local/lib/python3.9/site-packages/pandas/io/parsers/readers.py\", line 586, in read_csv\n",
      "    return _read(filepath_or_buffer, kwds)\n",
      "  File \"/usr/local/Cellar/python@3.9/3.9.7_1/Frameworks/Python.framework/Versions/3.9/lib/python3.9/pickle.py\", line 955, in _batch_appends\n",
      "    save(x)\n",
      "  File \"/usr/local/lib/python3.9/site-packages/pandas/io/parsers/readers.py\", line 488, in _read\n",
      "    return parser.read(nrows)\n",
      "  File \"/usr/local/lib/python3.9/site-packages/pandas/io/parsers/readers.py\", line 1059, in read\n",
      "    df = DataFrame(col_dict, columns=columns, index=index)\n",
      "  File \"/usr/local/lib/python3.9/site-packages/pandas/core/frame.py\", line 614, in __init__\n",
      "    mgr = dict_to_mgr(data, index, columns, dtype=dtype, copy=copy, typ=manager)\n",
      "  File \"/usr/local/lib/python3.9/site-packages/pandas/core/internals/construction.py\", line 416, in dict_to_mgr\n",
      "    arrays = Series(data, index=columns, dtype=object)\n",
      "  File \"/usr/local/Cellar/python@3.9/3.9.7_1/Frameworks/Python.framework/Versions/3.9/lib/python3.9/pickle.py\", line 545, in save\n",
      "    x = self.memo.get(id(obj))\n",
      "  File \"/usr/local/lib/python3.9/site-packages/pandas/core/series.py\", line 405, in __init__\n",
      "    data, index = self._init_dict(data, index, dtype)\n",
      "  File \"/usr/local/lib/python3.9/site-packages/pandas/core/series.py\", line 502, in _init_dict\n",
      "    s = s.reindex(index, copy=False)\n",
      "KeyboardInterrupt\n",
      "  File \"/usr/local/lib/python3.9/site-packages/pandas/core/series.py\", line 4580, in reindex\n",
      "    return super().reindex(index=index, **kwargs)\n",
      "  File \"/usr/local/lib/python3.9/site-packages/pandas/core/generic.py\", line 4804, in reindex\n",
      "    if all(\n",
      "  File \"/usr/local/lib/python3.9/site-packages/pandas/core/generic.py\", line 4805, in <genexpr>\n",
      "    self._get_axis(axis).identical(ax)\n",
      "  File \"/usr/local/lib/python3.9/site-packages/pandas/core/indexes/base.py\", line 4820, in identical\n",
      "    self.equals(other)\n",
      "  File \"/usr/local/lib/python3.9/site-packages/pandas/core/indexes/base.py\", line 4806, in equals\n",
      "    return array_equivalent(self._values, other._values)\n",
      "  File \"/usr/local/lib/python3.9/site-packages/pandas/core/dtypes/missing.py\", line 442, in array_equivalent\n",
      "    if is_string_dtype(left.dtype) or is_string_dtype(right.dtype):\n",
      "  File \"/usr/local/lib/python3.9/site-packages/pandas/core/dtypes/common.py\", line 571, in is_string_dtype\n",
      "    return _is_dtype(arr_or_dtype, condition)\n",
      "  File \"/usr/local/lib/python3.9/site-packages/pandas/core/dtypes/common.py\", line 1540, in _is_dtype\n",
      "    return condition(dtype)\n",
      "  File \"/usr/local/lib/python3.9/site-packages/pandas/core/dtypes/common.py\", line 562, in condition\n",
      "    return dtype.kind in (\"O\", \"S\", \"U\") and not is_excluded_dtype(dtype)\n",
      "  File \"/usr/local/lib/python3.9/site-packages/pandas/core/dtypes/common.py\", line 569, in is_excluded_dtype\n",
      "    return any(is_excluded(dtype) for is_excluded in is_excluded_checks)\n",
      "  File \"/usr/local/lib/python3.9/site-packages/pandas/core/dtypes/common.py\", line 569, in <genexpr>\n",
      "    return any(is_excluded(dtype) for is_excluded in is_excluded_checks)\n",
      "  File \"/usr/local/lib/python3.9/site-packages/pandas/core/dtypes/common.py\", line 529, in is_categorical_dtype\n",
      "    return CategoricalDtype.is_dtype(arr_or_dtype)\n",
      "  File \"/usr/local/lib/python3.9/site-packages/pandas/core/dtypes/base.py\", line 289, in is_dtype\n",
      "    if isinstance(dtype, (ABCSeries, ABCIndex, ABCDataFrame, np.dtype)):\n",
      "KeyboardInterrupt\n"
     ]
    },
    {
     "ename": "KeyboardInterrupt",
     "evalue": "",
     "output_type": "error",
     "traceback": [
      "\u001b[0;31m---------------------------------------------------------------------------\u001b[0m",
      "\u001b[0;31mIndexError\u001b[0m                                Traceback (most recent call last)",
      "\u001b[0;32m/usr/local/lib/python3.9/site-packages/multiprocess/pool.py\u001b[0m in \u001b[0;36mnext\u001b[0;34m(self, timeout)\u001b[0m\n\u001b[1;32m    852\u001b[0m             \u001b[0;32mtry\u001b[0m\u001b[0;34m:\u001b[0m\u001b[0;34m\u001b[0m\u001b[0;34m\u001b[0m\u001b[0m\n\u001b[0;32m--> 853\u001b[0;31m                 \u001b[0mitem\u001b[0m \u001b[0;34m=\u001b[0m \u001b[0mself\u001b[0m\u001b[0;34m.\u001b[0m\u001b[0m_items\u001b[0m\u001b[0;34m.\u001b[0m\u001b[0mpopleft\u001b[0m\u001b[0;34m(\u001b[0m\u001b[0;34m)\u001b[0m\u001b[0;34m\u001b[0m\u001b[0;34m\u001b[0m\u001b[0m\n\u001b[0m\u001b[1;32m    854\u001b[0m             \u001b[0;32mexcept\u001b[0m \u001b[0mIndexError\u001b[0m\u001b[0;34m:\u001b[0m\u001b[0;34m\u001b[0m\u001b[0;34m\u001b[0m\u001b[0m\n",
      "\u001b[0;31mIndexError\u001b[0m: pop from an empty deque",
      "\nDuring handling of the above exception, another exception occurred:\n",
      "\u001b[0;31mKeyboardInterrupt\u001b[0m                         Traceback (most recent call last)",
      "\u001b[0;32m/var/folders/hf/vsglmmmn0s93s954hzwf_ph40000gn/T/ipykernel_85648/2483726311.py\u001b[0m in \u001b[0;36m<module>\u001b[0;34m\u001b[0m\n\u001b[1;32m     12\u001b[0m \u001b[0;34m\u001b[0m\u001b[0m\n\u001b[1;32m     13\u001b[0m \u001b[0mpool\u001b[0m \u001b[0;34m=\u001b[0m \u001b[0mPool\u001b[0m\u001b[0;34m(\u001b[0m\u001b[0;34m)\u001b[0m\u001b[0;34m\u001b[0m\u001b[0;34m\u001b[0m\u001b[0m\n\u001b[0;32m---> 14\u001b[0;31m \u001b[0mresult\u001b[0m \u001b[0;34m=\u001b[0m \u001b[0mlist\u001b[0m\u001b[0;34m(\u001b[0m\u001b[0mtqdm\u001b[0m\u001b[0;34m(\u001b[0m\u001b[0mpool\u001b[0m\u001b[0;34m.\u001b[0m\u001b[0mimap\u001b[0m\u001b[0;34m(\u001b[0m\u001b[0mread\u001b[0m\u001b[0;34m,\u001b[0m \u001b[0mall_datas\u001b[0m\u001b[0;34m)\u001b[0m\u001b[0;34m,\u001b[0m \u001b[0mtotal\u001b[0m\u001b[0;34m=\u001b[0m\u001b[0mlen\u001b[0m\u001b[0;34m(\u001b[0m\u001b[0mall_datas\u001b[0m\u001b[0;34m)\u001b[0m\u001b[0;34m)\u001b[0m\u001b[0;34m)\u001b[0m\u001b[0;34m\u001b[0m\u001b[0;34m\u001b[0m\u001b[0m\n\u001b[0m\u001b[1;32m     15\u001b[0m \u001b[0;34m\u001b[0m\u001b[0m\n\u001b[1;32m     16\u001b[0m \u001b[0mpool\u001b[0m\u001b[0;34m.\u001b[0m\u001b[0mclose\u001b[0m\u001b[0;34m(\u001b[0m\u001b[0;34m)\u001b[0m\u001b[0;34m\u001b[0m\u001b[0;34m\u001b[0m\u001b[0m\n",
      "\u001b[0;32m/usr/local/lib/python3.9/site-packages/tqdm/std.py\u001b[0m in \u001b[0;36m__iter__\u001b[0;34m(self)\u001b[0m\n\u001b[1;32m   1178\u001b[0m \u001b[0;34m\u001b[0m\u001b[0m\n\u001b[1;32m   1179\u001b[0m         \u001b[0;32mtry\u001b[0m\u001b[0;34m:\u001b[0m\u001b[0;34m\u001b[0m\u001b[0;34m\u001b[0m\u001b[0m\n\u001b[0;32m-> 1180\u001b[0;31m             \u001b[0;32mfor\u001b[0m \u001b[0mobj\u001b[0m \u001b[0;32min\u001b[0m \u001b[0miterable\u001b[0m\u001b[0;34m:\u001b[0m\u001b[0;34m\u001b[0m\u001b[0;34m\u001b[0m\u001b[0m\n\u001b[0m\u001b[1;32m   1181\u001b[0m                 \u001b[0;32myield\u001b[0m \u001b[0mobj\u001b[0m\u001b[0;34m\u001b[0m\u001b[0;34m\u001b[0m\u001b[0m\n\u001b[1;32m   1182\u001b[0m                 \u001b[0;31m# Update and possibly print the progressbar.\u001b[0m\u001b[0;34m\u001b[0m\u001b[0;34m\u001b[0m\u001b[0m\n",
      "\u001b[0;32m/usr/local/lib/python3.9/site-packages/multiprocess/pool.py\u001b[0m in \u001b[0;36mnext\u001b[0;34m(self, timeout)\u001b[0m\n\u001b[1;32m    856\u001b[0m                     \u001b[0mself\u001b[0m\u001b[0;34m.\u001b[0m\u001b[0m_pool\u001b[0m \u001b[0;34m=\u001b[0m \u001b[0;32mNone\u001b[0m\u001b[0;34m\u001b[0m\u001b[0;34m\u001b[0m\u001b[0m\n\u001b[1;32m    857\u001b[0m                     \u001b[0;32mraise\u001b[0m \u001b[0mStopIteration\u001b[0m \u001b[0;32mfrom\u001b[0m \u001b[0;32mNone\u001b[0m\u001b[0;34m\u001b[0m\u001b[0;34m\u001b[0m\u001b[0m\n\u001b[0;32m--> 858\u001b[0;31m                 \u001b[0mself\u001b[0m\u001b[0;34m.\u001b[0m\u001b[0m_cond\u001b[0m\u001b[0;34m.\u001b[0m\u001b[0mwait\u001b[0m\u001b[0;34m(\u001b[0m\u001b[0mtimeout\u001b[0m\u001b[0;34m)\u001b[0m\u001b[0;34m\u001b[0m\u001b[0;34m\u001b[0m\u001b[0m\n\u001b[0m\u001b[1;32m    859\u001b[0m                 \u001b[0;32mtry\u001b[0m\u001b[0;34m:\u001b[0m\u001b[0;34m\u001b[0m\u001b[0;34m\u001b[0m\u001b[0m\n\u001b[1;32m    860\u001b[0m                     \u001b[0mitem\u001b[0m \u001b[0;34m=\u001b[0m \u001b[0mself\u001b[0m\u001b[0;34m.\u001b[0m\u001b[0m_items\u001b[0m\u001b[0;34m.\u001b[0m\u001b[0mpopleft\u001b[0m\u001b[0;34m(\u001b[0m\u001b[0;34m)\u001b[0m\u001b[0;34m\u001b[0m\u001b[0;34m\u001b[0m\u001b[0m\n",
      "\u001b[0;32m/usr/local/Cellar/python@3.9/3.9.7_1/Frameworks/Python.framework/Versions/3.9/lib/python3.9/threading.py\u001b[0m in \u001b[0;36mwait\u001b[0;34m(self, timeout)\u001b[0m\n\u001b[1;32m    310\u001b[0m         \u001b[0;32mtry\u001b[0m\u001b[0;34m:\u001b[0m    \u001b[0;31m# restore state no matter what (e.g., KeyboardInterrupt)\u001b[0m\u001b[0;34m\u001b[0m\u001b[0;34m\u001b[0m\u001b[0m\n\u001b[1;32m    311\u001b[0m             \u001b[0;32mif\u001b[0m \u001b[0mtimeout\u001b[0m \u001b[0;32mis\u001b[0m \u001b[0;32mNone\u001b[0m\u001b[0;34m:\u001b[0m\u001b[0;34m\u001b[0m\u001b[0;34m\u001b[0m\u001b[0m\n\u001b[0;32m--> 312\u001b[0;31m                 \u001b[0mwaiter\u001b[0m\u001b[0;34m.\u001b[0m\u001b[0macquire\u001b[0m\u001b[0;34m(\u001b[0m\u001b[0;34m)\u001b[0m\u001b[0;34m\u001b[0m\u001b[0;34m\u001b[0m\u001b[0m\n\u001b[0m\u001b[1;32m    313\u001b[0m                 \u001b[0mgotit\u001b[0m \u001b[0;34m=\u001b[0m \u001b[0;32mTrue\u001b[0m\u001b[0;34m\u001b[0m\u001b[0;34m\u001b[0m\u001b[0m\n\u001b[1;32m    314\u001b[0m             \u001b[0;32melse\u001b[0m\u001b[0;34m:\u001b[0m\u001b[0;34m\u001b[0m\u001b[0;34m\u001b[0m\u001b[0m\n",
      "\u001b[0;31mKeyboardInterrupt\u001b[0m: "
     ]
    }
   ],
   "source": [
    "from multiprocess import Process, Pool\n",
    "\n",
    "print(\"Read files...\")\n",
    "\n",
    "def read(filename):\n",
    "    name = filename\n",
    "    \n",
    "    data = pd.read_csv(filename)\n",
    "    data[\"filename\"] = name\n",
    "    # print(\"Read\", filename.split(\"/\")[-1])\n",
    "    return (name, data)\n",
    "\n",
    "pool = Pool()\n",
    "result = list(tqdm(pool.imap(read, all_datas), total=len(all_datas)))\n",
    "\n",
    "pool.close()\n",
    "pool.join() # wait till pool to finish calculation\n",
    "\n",
    "print(\"Finished Reading files...\")\n",
    "\n",
    "all_df = dict(result)"
   ]
  },
  {
   "cell_type": "code",
   "execution_count": null,
   "id": "44d2fbb9",
   "metadata": {},
   "outputs": [],
   "source": [
    "# 버스 정류장\n",
    "busstation1 = \"PHB351016075\" # 조회할 버스 정류장 - PHB351016075 농협양덕지점 (한동대방향)\n",
    "busstation2 = \"PHB351016076\" # 조회할 버스 정류장2 (지나갔을까봐) - PHB351016075 농협양덕지점 (한동대방향)\n",
    "\n",
    "all_datas = pd.concat(all_df.values(), ignore_index=True) # 모든 데이터를 합친다\n",
    "all_datas = all_datas[(all_datas.nodeid == busstation1) | (all_datas.nodeid == busstation2)] # 정류장 검색\n",
    "\n",
    "all_datas.reset_index(inplace=True) # Reset index\n",
    "all_datas = all_datas[[\"vehicleno\", \"nodenm\", \"filename\"]] # vehicle 번호와 filename 만 보여주기\n",
    "all_datas[\"time\"] = pd.to_datetime(all_datas[\"filename\"], format=\"%y%m%d/%H%M%S\", errors=\"coerce\", exact=False) # filename 에서 시간 계산\n",
    "all_datas.set_index(\"time\", inplace=True)\n",
    "\n",
    "all_datas.head()"
   ]
  },
  {
   "cell_type": "code",
   "execution_count": null,
   "id": "5c361759",
   "metadata": {},
   "outputs": [],
   "source": [
    "# 다음 entry 가 같은 vehicleno 일경우 무시\n",
    "all_datas = all_datas[ \n",
    "    all_datas.vehicleno.ne(all_datas.vehicleno.shift())\n",
    "]\n",
    "all_datas.head()"
   ]
  },
  {
   "cell_type": "code",
   "execution_count": null,
   "id": "24876411",
   "metadata": {},
   "outputs": [],
   "source": [
    "# 빈파일 목록 확인\n",
    "empty_files = []\n",
    "for name, data in all_df.items():\n",
    "    if len(data) == 0:\n",
    "        empty_files.append(name)\n",
    "len(empty_files)"
   ]
  },
  {
   "cell_type": "code",
   "execution_count": null,
   "id": "fb5018aa",
   "metadata": {},
   "outputs": [],
   "source": [
    "# 빈파일들에는 null 데이터를 추가하여 다음 시간이 계산이 안되게 처리.\n",
    "for file in empty_files:\n",
    "    datetime = pd.to_datetime(file, format=\"%y%m%d/%H%M%S\", errors=\"coerce\", exact=False)\n",
    "    all_datas.loc[datetime] = [np.nan for i in range(len(all_datas.columns))]"
   ]
  },
  {
   "cell_type": "code",
   "execution_count": null,
   "id": "537564f3",
   "metadata": {},
   "outputs": [],
   "source": [
    "# 마지막으로 전에 빈 공간이 있을경우 데이터 무시.\n",
    "all_datas = all_datas.sort_index()\n",
    "all_datas[\"diff\"] = all_datas.index.to_series().diff()\n",
    "all_datas = all_datas[~all_datas.vehicleno.shift().isna()].dropna(subset=['filename'])"
   ]
  },
  {
   "cell_type": "code",
   "execution_count": null,
   "id": "8f544bbf",
   "metadata": {},
   "outputs": [],
   "source": [
    "# 시간 계산\n",
    "# all_datas[\"diff\"] = all_datas.index.to_series().diff()"
   ]
  },
  {
   "cell_type": "code",
   "execution_count": null,
   "id": "8ef6277d",
   "metadata": {},
   "outputs": [],
   "source": [
    "# all_datas[\"diff\"]\n",
    "diff_data = all_datas.dropna(subset=[\"diff\"])[\"diff\"].dt.seconds.div(60, fill_value=0)\n",
    "goodcond = (diff_data < 120) & (diff_data > 2)\n",
    "diff_data[goodcond].describe() # 최대시간을 2시간으로 두어 익일인 경우 무시."
   ]
  },
  {
   "cell_type": "markdown",
   "id": "a10616d7",
   "metadata": {},
   "source": [
    "------\n",
    "# Visuals"
   ]
  },
  {
   "cell_type": "code",
   "execution_count": null,
   "id": "e547b492",
   "metadata": {
    "scrolled": true
   },
   "outputs": [],
   "source": [
    "!pip3.9 install matplotlib seaborn"
   ]
  },
  {
   "cell_type": "code",
   "execution_count": null,
   "id": "74bf1e8f",
   "metadata": {},
   "outputs": [],
   "source": [
    "# Dependencies\n",
    "import matplotlib.pyplot as plt\n",
    "import seaborn as sns"
   ]
  },
  {
   "cell_type": "code",
   "execution_count": null,
   "id": "33c1aae0",
   "metadata": {},
   "outputs": [],
   "source": [
    "# 한글 폰트 설치\n",
    "from matplotlib import font_manager, rc\n",
    "plt.rcParams['axes.unicode_minus'] = False\n",
    "\n",
    "import platform\n",
    "if platform.system() == \"Darwin\":\n",
    "  rc(\"font\", family=\"AppleGothic\")\n",
    "elif platform.system() == \"Windows\":\n",
    "  path=\"c:/Windows/Font/malgun.ttf\"\n",
    "  font_name = font_manager.FontPropertie(fname=path).get_name()\n",
    "  rc('font', family=font_name)\n",
    "else:\n",
    "  %config InlineBackend.figure_format = 'retina'\n",
    "  !apt -qq -y install fonts-nanum\n",
    "  fontpath = '/usr/share/fonts/truetype/nanum/NanumBarunGothic.ttf'\n",
    "  font = font_manager.FontProperties(fname=fontpath, size=9)\n",
    "  plt.rc('font', family='NanumBarunGothic')\n",
    "  font_manager._rebuild()"
   ]
  },
  {
   "cell_type": "code",
   "execution_count": null,
   "id": "f7c7dee2",
   "metadata": {},
   "outputs": [],
   "source": [
    "vis = pd.DataFrame(all_datas)\n",
    "vis['dval'] = all_datas.dropna(subset=[\"diff\"])[\"diff\"].dt.seconds.div(60, fill_value=0)\n",
    "vis = vis[(goodcond)]\n",
    "vis.head()"
   ]
  },
  {
   "cell_type": "code",
   "execution_count": null,
   "id": "0fe5293f",
   "metadata": {},
   "outputs": [],
   "source": [
    "vis['hour'] = vis.index.hour\n",
    "hourdata = vis.groupby(by=\"hour\").mean()\n",
    "hourdata"
   ]
  },
  {
   "cell_type": "code",
   "execution_count": null,
   "id": "d7cdb779",
   "metadata": {},
   "outputs": [],
   "source": [
    "%matplotlib inline\n",
    "\n",
    "# 그래프 준비\n",
    "plt.figure(figsize=(10,15))\n",
    "# hourdata.dtypes\n",
    "# plt.barh(hourdata.index.astype(str), hourdata['dval'])\n",
    "\n",
    "barg = sns.barplot(x=hourdata['dval'], y=hourdata.index.astype(str), alpha=0.9, orient='h')\n",
    "\n",
    "# Label 추가\n",
    "for p in barg.patches:\n",
    "    width = p.get_width()\n",
    "    plt.text(1+p.get_width(), p.get_y()+0.55*p.get_height(),\n",
    "             '{:1.2f}'.format(width),\n",
    "             ha='center', va='center')\n",
    "\n",
    "plt.title(\"302번 농협 양덕지점 (한동대 방향) 시간대별 배차간격\")\n",
    "plt.xlabel(\"평균 배차간격 (분)\")\n",
    "plt.ylabel(\"시간대\")\n",
    "\n",
    "plt.show()\n",
    "\n"
   ]
  },
  {
   "cell_type": "code",
   "execution_count": null,
   "id": "918d27ae",
   "metadata": {},
   "outputs": [],
   "source": [
    "vis['hour'] = vis.index.hour\n",
    "hourdataMid = vis.groupby(by=\"hour\").median()\n",
    "hourdataMid"
   ]
  },
  {
   "cell_type": "code",
   "execution_count": null,
   "id": "f8c3b189",
   "metadata": {},
   "outputs": [],
   "source": [
    "# 그래프 준비\n",
    "plt.figure(figsize=(10,15))\n",
    "# hourdata.dtypes\n",
    "# plt.barh(hourdata.index.astype(str), hourdata['dval'])\n",
    "\n",
    "barg = sns.barplot(x=hourdataMid['dval'], y=hourdataMid.index.astype(str), alpha=0.9, orient='h')\n",
    "\n",
    "# Label 추가\n",
    "for p in barg.patches:\n",
    "    width = p.get_width()\n",
    "    plt.text(1+p.get_width(), p.get_y()+0.55*p.get_height(),\n",
    "             '{:1.2f}'.format(width),\n",
    "             ha='center', va='center')\n",
    "\n",
    "plt.title(\"302번 농협 양덕지점 (한동대 방향) 시간대별 배차간격\")\n",
    "plt.xlabel(\"중간값 배차간격 (분)\")\n",
    "plt.ylabel(\"시간대\")\n",
    "\n",
    "plt.show()"
   ]
  },
  {
   "cell_type": "markdown",
   "id": "eed59948",
   "metadata": {},
   "source": [
    "------------\n",
    "\n",
    "# Test Process"
   ]
  },
  {
   "cell_type": "code",
   "execution_count": null,
   "id": "b9918bdd",
   "metadata": {},
   "outputs": [],
   "source": [
    "copy = pd.DataFrame(all_datas)\n",
    "copy.head()"
   ]
  },
  {
   "cell_type": "code",
   "execution_count": null,
   "id": "1462d51b",
   "metadata": {},
   "outputs": [],
   "source": [
    "copy.dropna(subset=[\"diff\"], inplace=True)\n",
    "copy['dval'] = all_datas.dropna(subset=[\"diff\"])[\"diff\"].dt.seconds.div(60, fill_value=0)\n",
    "copy.head()"
   ]
  },
  {
   "cell_type": "code",
   "execution_count": null,
   "id": "68b93f5a",
   "metadata": {},
   "outputs": [],
   "source": [
    "copy.loc[copy['dval'] > 70].sort_values(by=[\"dval\"]).head()"
   ]
  },
  {
   "cell_type": "code",
   "execution_count": null,
   "id": "5c113e15",
   "metadata": {},
   "outputs": [],
   "source": [
    "copy.loc[copy['dval'] == 0]"
   ]
  },
  {
   "cell_type": "code",
   "execution_count": null,
   "id": "b77d0237",
   "metadata": {},
   "outputs": [],
   "source": [
    "# all Days\n",
    "print(\"Number of days:\", len(copy.groupby(pd.Grouper(freq='D'))))"
   ]
  },
  {
   "cell_type": "code",
   "execution_count": null,
   "id": "0b3705d0",
   "metadata": {
    "scrolled": true
   },
   "outputs": [],
   "source": [
    "copy.sort_values(['time', 'vehicleno']).loc[\"2021-10-18\"]"
   ]
  },
  {
   "cell_type": "code",
   "execution_count": null,
   "id": "b682b4b3",
   "metadata": {},
   "outputs": [],
   "source": [
    "# 빈파일 목록 확인\n",
    "empty_files = []\n",
    "for name, data in all_df.items():\n",
    "    if len(data) == 0:\n",
    "        empty_files.append(name)\n",
    "len(empty_files)"
   ]
  },
  {
   "cell_type": "code",
   "execution_count": null,
   "id": "de737a9b",
   "metadata": {},
   "outputs": [],
   "source": [
    "import numpy as np\n",
    "# 빈파일들에는 null 데이터를 추가하여 다음 시간이 계산이 안되게 처리.\n",
    "for file in empty_files:\n",
    "    datetime = pd.to_datetime(file, format=\"%y%m%d/%H%M%S\", errors=\"coerce\", exact=False)\n",
    "    copy.loc[datetime] = [np.nan for i in range(len(copy.columns))]"
   ]
  },
  {
   "cell_type": "code",
   "execution_count": null,
   "id": "7679cc0e",
   "metadata": {
    "scrolled": false
   },
   "outputs": [],
   "source": [
    "copyr = copy.sort_index()\n",
    "copyr[\"diff2\"] = copyr.index.to_series().diff()\n",
    "copyr = copyr[~copyr.vehicleno.shift().isna()].dropna(subset=['filename'])\n",
    "print(len(copyr))\n",
    "# copyr.loc['2021-09-14 13:30':'2021-09-14 16:30']"
   ]
  },
  {
   "cell_type": "code",
   "execution_count": null,
   "id": "99fed2ed",
   "metadata": {},
   "outputs": [],
   "source": [
    "# all_datas[\"diff\"]\n",
    "copyr_diffdata = copyr.dropna(subset=[\"diff\"])[\"diff\"].dt.seconds.div(60, fill_value=0)\n",
    "copyr_diffdata[(copyr_diffdata < 120) & (copyr_diffdata > 2)].describe() # 최대시간을 2시간으로 두어 익일인 경우 무시."
   ]
  },
  {
   "cell_type": "code",
   "execution_count": null,
   "id": "f65fbb20",
   "metadata": {
    "scrolled": false
   },
   "outputs": [],
   "source": [
    "# Remove diff data if last row doesn't have any information\n",
    "for item in copyr.index:\n",
    "    print(copyr.vehicleno.shift().loc[item])\n",
    "    if pd.isnull(copyr.vehicleno.shift().loc[item]):\n",
    "        copyr.loc[item, \"dval\"] = np.nan"
   ]
  },
  {
   "cell_type": "code",
   "execution_count": null,
   "id": "63aefbb4",
   "metadata": {},
   "outputs": [],
   "source": [
    "copyr.diff2"
   ]
  },
  {
   "cell_type": "code",
   "execution_count": null,
   "id": "717b5f8b",
   "metadata": {},
   "outputs": [],
   "source": [
    "copy"
   ]
  },
  {
   "cell_type": "code",
   "execution_count": null,
   "id": "e787b1b3",
   "metadata": {},
   "outputs": [],
   "source": [
    "copy.sort_index().loc['2021-09-14 13:30':'2021-09-14 16:30']"
   ]
  },
  {
   "cell_type": "code",
   "execution_count": null,
   "id": "412cb6c1",
   "metadata": {},
   "outputs": [],
   "source": [
    "pd.set_option('display.max_rows', None)"
   ]
  },
  {
   "cell_type": "code",
   "execution_count": null,
   "id": "1429a9b1",
   "metadata": {
    "scrolled": true
   },
   "outputs": [],
   "source": [
    "copy.sort_index().loc['2021-09-14']"
   ]
  },
  {
   "cell_type": "code",
   "execution_count": null,
   "id": "6ded5c93",
   "metadata": {},
   "outputs": [],
   "source": [
    "# Filter all empty files\n",
    "len(result)"
   ]
  },
  {
   "cell_type": "code",
   "execution_count": null,
   "id": "74c6abde",
   "metadata": {
    "scrolled": true
   },
   "outputs": [],
   "source": [
    "# https://stackoverflow.com/questions/56057755/extract-all-rows-in-dataframe-having-same-date\n",
    "for name, group in copy.groupby(pd.Grouper(freq='D')):\n",
    "    print(name)"
   ]
  }
 ],
 "metadata": {
  "kernelspec": {
   "display_name": "Python 3 (ipykernel)",
   "language": "python",
   "name": "python3"
  },
  "language_info": {
   "codemirror_mode": {
    "name": "ipython",
    "version": 3
   },
   "file_extension": ".py",
   "mimetype": "text/x-python",
   "name": "python",
   "nbconvert_exporter": "python",
   "pygments_lexer": "ipython3",
   "version": "3.9.7"
  }
 },
 "nbformat": 4,
 "nbformat_minor": 5
}
